{
 "cells": [
  {
   "cell_type": "markdown",
   "metadata": {},
   "source": [
    "## Tarea 2 - Miguel Raz"
   ]
  },
  {
   "cell_type": "markdown",
   "metadata": {},
   "source": [
    "## Ejercicio 1\n",
    "\n",
    "Consideraren la siguiente definición de la derivada, que podemos llamar\n",
    "*derivada de paso complejo*:\n",
    "\n",
    "$$\n",
    "f^\\prime(x_0) \\equiv \\lim_{h\\to 0} \\textrm{Im}\\left(\\frac{f(x_0+i h)}{h}\\right),\n",
    "$$\n",
    "\n",
    "donde \n",
    "\n",
    "* $i^2 = -1$, \n",
    "* $\\textrm{Im}(z)$ es la parte imaginaria de $z$.\n",
    "\n",
    "1. Estudien el comportamiento del error de la derivada de paso complejo, como\n",
    "lo hicimos en clase, simulando el límite $h→0$.\n",
    "\n",
    "2. Expliquen analíticamente los resultados numéricos obtenidos.\n",
    "\n",
    "\n",
    "NOTA: En caso de que se atoren, o que el tema les interese más, ver\n",
    "[este artículo](https://epubs.siam.org/doi/epdf/10.1137/S003614459631241X)\n",
    "y/o [esta liga](https://nhigham.com/2020/10/06/what-is-the-complex-step-approximation/).\n",
    "\n"
   ]
  },
  {
   "cell_type": "code",
   "execution_count": null,
   "metadata": {},
   "outputs": [],
   "source": [
    "f1(f, x, h) = (f(x + h) - f(x - h))/(2h)\n",
    "f2(f, x, h) = imag(f(x + im*h))/h\n",
    "f(x) = exp(x)\n",
    "x_0 = 1.0"
   ]
  },
  {
   "cell_type": "code",
   "execution_count": null,
   "metadata": {},
   "outputs": [],
   "source": [
    "hs = logrange(1e-1, 1e-12, 1000) |> collect;\n",
    "# Tomamos los valores absolutos de los errores relativos:\n",
    "y1s = abs.((f1.(f, x_0, hs) .- f(x_0)) ./ f(x_0));\n",
    "y2s = abs.((f2.(f, x_0, hs) .- f(x_0)) ./ f(x_0));\n",
    "ticks = [1e-1, 1e-2, 1e-3, 1e-4, 1e-5, 1e-6, 1e-7, 1e-8, 1e-9, 1e-10, 1e-11, 1e-12]"
   ]
  },
  {
   "cell_type": "code",
   "execution_count": 3,
   "metadata": {},
   "outputs": [],
   "source": [
    "using Plots"
   ]
  },
  {
   "cell_type": "code",
   "execution_count": null,
   "metadata": {},
   "outputs": [],
   "source": [
    "p = Plots.plot(hs, y1s, xaxis = :log10, yaxis = :log10, label = \"Centered Finite Difference\", xticks = ticks, yticks = ticks, title = \"Relative Error\")"
   ]
  },
  {
   "cell_type": "code",
   "execution_count": null,
   "metadata": {},
   "outputs": [],
   "source": [
    "p2 = Plots.plot(hs, y2s, label = \"Complex Finite Difference\", xaxis = :log10, xticks = ticks, title = \"Relative Error\")"
   ]
  },
  {
   "cell_type": "markdown",
   "metadata": {},
   "source": [
    "## Ejercicio 2\n",
    "\n",
    " - A partir de $\\mathbb{D}_{x_0}u \\cdot \\mathbb{D}_{x_0}w$, obtengan la expresión para\n",
    " $\\mathbb{D}_{x_0}z = \\mathbb{D}_{x_0}u / \\mathbb{D}_{x_0}w$. Es decir, demuestren\n",
    " el resultado obtenido para la división de duales.\n",
    "\n"
   ]
  },
  {
   "cell_type": "markdown",
   "metadata": {},
   "source": [
    "Lema:\n",
    "\n",
    "\n",
    "* $\\mathbb{D}_{x_0} (u \\cdot w) = \\mathbb{D}_{x_0} u \\cdot \\mathbb{D}_{x_0} w = \\big( u_0 w_0,\\, u_0 w'_0 +  w_0 u'_0 \\big)$\n"
   ]
  },
  {
   "cell_type": "markdown",
   "metadata": {},
   "source": [
    "\n",
    "Demostracion:\n",
    "\n",
    "* $\\mathbb{D}_{x_0}z = \\frac{\\mathbb{D}_{x_0}u}{\\mathbb{D}_{x_0}w}$\n",
    "\n",
    "Por definicion, $\\mathbb{D}_{x_0} = x_0 + \\epsilon$, por lo tanto:\n",
    "\n",
    "* $\\mathbb{D}_{x_0}z = \\frac{u_0 + \\epsilon}{w_0 + \\epsilon}$\n",
    "\n",
    "Multiplicando por el conjugado del denominador:\n",
    "\n",
    "* $\\mathbb{D}_{x_0}z = \\frac{u_0 + \\epsilon}{w_0 + \\epsilon} \\left(\\frac{w_0 - \\epsilon}{w_0 - \\epsilon}\\right)$\n",
    "\n",
    "* $\\mathbb{D}_{x_0}z = \\frac{w_0 u_0 + w_0 \\epsilon - u_0 \\epsilon - \\epsilon^2}{w_0^2}$\n",
    "\n",
    "Y como $\\epsilon^2 = 0$ para los duales, y $(u_0, 1) = u_0 + \\epsilon$,\n",
    "\n",
    "\n",
    "* $\\mathbb{D}_{x_0}z = \\left(\\frac{u_0 w_0}{w_0^2}, \\frac{w_0 \\epsilon - u_0 \\epsilon}{w_0^2}\\right)$\n",
    "\n",
    "Por lo tanto,\n",
    "\n",
    "* $\\mathbb{D}_{x_0}z = \\left(\\frac{u_0 w_0}{w_0^2}, \\frac{u_0' w_0- u_0 w_0'}{w_0^2}\\right)$"
   ]
  },
  {
   "cell_type": "markdown",
   "metadata": {},
   "source": [
    "## Ejercicio 3\n",
    "\n",
    " - Definan una estructura en Julia `Dual` que represente a los números duales;\n",
    " los nombres de los campos internos serán `fun` y `der`.\n",
    " Por sencillez, pueden considerar que los campos de `Dual` son del tipo `Float64`,\n",
    " aunque pueden *osar* y atreverse a implementar el caso paramétrico `Dual{T <: Real}`,\n",
    " donde `T` es el tipo de *ambos* campos.\n",
    "\n",
    " - Sobrecarguen las operaciones de tal manera que las cuatro operaciones aritméticas\n",
    " que involucran dos `Dual`es, den el resultado que se espera.\n",
    "\n",
    " - Definan un método específico para crear duales (constructor externo), a partir de\n",
    " un sólo valor (en lugar de los dos requeridos), y que corresponderá a\n",
    " $\\mathbb{D}_{x_0}c = (c, 0)$, donde $c$ es una constante (real).\n",
    "\n",
    " - Extiendan los métodos que permitan sumar/restar y multiplicar/dividir un\n",
    " número (`::Real`) y un `::Dual`. (Recuerden que ciertas operaciones son conmutativas!).\n",
    " NOTA: Este ejercicio lo pueden hacer escribiendo todos los métodos, uno a uno. Otra\n",
    " opción es usar `promote` y `convert` para definir reglas de promoción y conversión;\n",
    " [la documentación](https://docs.julialang.org/en/v1/manual/conversion-and-promotion/)\n",
    " tiene más información, por si este camino les interesa.\n",
    "\n",
    " - Definan las funciones `fun` y `der` que, al ser aplicadas a un `Dual` devuelvan\n",
    " la parte que corresponde a la función y la parte que corresponde a la derivada\n",
    " del `Dual`, respectivamente.\n",
    "\n",
    " - Incluyan varios casos (propuestos por ustedes mismos) donde se *compruebe*\n",
    " que lo que\n",
    " implementaron da el resultado que debería ser. Para esto, pueden usar la librería\n",
    " estándard [`Test`](https://docs.julialang.org/en/v1/stdlib/Test/) de Julia.\n",
    "\n"
   ]
  },
  {
   "cell_type": "code",
   "execution_count": 86,
   "metadata": {},
   "outputs": [],
   "source": [
    "struct Dual\n",
    "    fun::Float64\n",
    "    der::Float64\n",
    "end\n",
    "\n",
    "Base.:+(x::Dual, y::Dual) = Dual(fun(x) + fun(y), der(x) + der(y))\n",
    "Base.:-(x::Dual, y::Dual) = Dual(fun(x) - fun(y), der(x) - der(y))\n",
    "Base.:*(x::Dual, y::Dual) = Dual(fun(x) * fun(y), der(x) * fun(y) + fun(x) * der(y))\n",
    "Base.:/(x::Dual, y::Dual) = Dual(fun(x) / fun(y), (der(x) - (fun(x) / fun(y)) * der(y)) / fun(y))\n",
    "Base.:^(x::Dual, y::Real) = Dual(fun(x) ^ y, y*fun(x)^(y-1)*der(x))\n",
    "\n",
    "Base.:+(x::Dual, y::Real) = x + Dual(y)\n",
    "Base.:+(x::Real, y::Dual) = Dual(x) + y\n",
    "Base.:-(x::Dual, y::Real) = x - Dual(y)\n",
    "Base.:-(x::Real, y::Dual) = Dual(x) - y\n",
    "Base.:*(x::Dual, y::Real) = x * Dual(y)\n",
    "Base.:*(x::Real, y::Dual) = Dual(x) * y\n",
    "Base.:/(x::Dual, y::Real) = x / Dual(y)\n",
    "Base.:/(x::Real, y::Dual) = Dual(x) / y\n",
    "\n",
    "Dual(x::Real) = Dual(x, 0.0)\n",
    "fun(x::Dual) = x.fun\n",
    "der(x::Dual) = x.der\n",
    "fun(x::Real) = x\n",
    "der(x::Real) = x\n",
    "\n",
    "Base.isapprox(x::Dual, y::Dual) = fun(x) ≈ fun(y) && der(x) ≈ der(y)\n"
   ]
  },
  {
   "cell_type": "code",
   "execution_count": 58,
   "metadata": {},
   "outputs": [
    {
     "name": "stdout",
     "output_type": "stream",
     "text": [
      "\u001b[0m\u001b[1mTest Summary: | \u001b[22m\u001b[32m\u001b[1mPass  \u001b[22m\u001b[39m\u001b[36m\u001b[1mTotal  \u001b[22m\u001b[39m\u001b[0m\u001b[1mTime\u001b[22m\n",
      "Arithmetic    | \u001b[32m  12  \u001b[39m\u001b[36m   12  \u001b[39m\u001b[0m0.0s\n"
     ]
    }
   ],
   "source": [
    "using Test\n",
    "@testset \"Arithmetic\" begin\n",
    "    @test Dual(1,1) + Dual(2, 0) == Dual(3.0, 1.0)\n",
    "    @test Dual(2, 1) * Dual(3, 0) - Dual(1, 0) == Dual(5.0, 3.0)\n",
    "    @test fun(Dual(7.0)) == 7.0\n",
    "    @test der(Dual(3)) == 0\n",
    "    @test Dual(5, 1) ^ 3 == Dual(125, 75)\n",
    "    @test Dual(9.0, 1)^2.0 / (Dual(9.0, 1) + Dual(1.0, 0.0)) == Dual(8.1, 0.99)\n",
    "    @test (Dual(5, 1) + Dual(1.0, 0.0))* (Dual(1.0)) == Dual(6, 1)\n",
    "    @test Dual(1.0, 0.0) + 1 == 1 + Dual(1, 0)\n",
    "    @test Dual(1.0, 0.0) + 1.0 == 1.0 + Dual(1.0, 0)\n",
    "    @test 2 * Dual(1, 1) == 2 * Dual(1.0, 1.0)\n",
    "    @test 3 / Dual(1, 1) == 3.0 / Dual(1.0, 1.0)\n",
    "    @test Dual(2, 1) ^ 4 == Dual(2.0, 1.0) ^ 4.0\n",
    "end;"
   ]
  },
  {
   "cell_type": "markdown",
   "metadata": {},
   "source": [
    "## Ejercicio 4\n",
    "\n",
    " Definan una nueva función `dual(x_0)` cuyo resultado sea un `Dual` que corresponde\n",
    " a la variable independiente $x$ evaluada en `x_0`. Con esta función\n",
    " obtengan $g'(2)$ para la función\n",
    " $$\n",
    " g(x) = \\frac{3x^2-8x+1}{7x^3-1}.\n",
    " $$\n"
   ]
  },
  {
   "cell_type": "code",
   "execution_count": 25,
   "metadata": {},
   "outputs": [
    {
     "data": {
      "text/plain": [
       "\u001b[32m\u001b[1mTest Passed\u001b[22m\u001b[39m"
      ]
     },
     "metadata": {},
     "output_type": "display_data"
    }
   ],
   "source": [
    "g(x::Float64) = let x = Dual(x, 1)\n",
    "    #(3x^2 - 8.0x + 1.0) / (7.0x^3 - 1.0)\n",
    "    #3.0x^2 - 8.0x + 1.0 / (x + 1.0)\n",
    "    (3x^2 - 8x + 1) /  (7x^3 - 1)\n",
    "end\n",
    "g(2.0)\n",
    "# Wolfram dice g′(2) ≈ 0.156033\n",
    "g′(x) = (-21x^4 + 112x^3 - 21x^2 - 6x + 8)/(7x^3 - 1)^2\n",
    "@test der(g(2.0)) ==  g′(2.0)\n"
   ]
  },
  {
   "cell_type": "markdown",
   "metadata": {},
   "source": [
    "## Ejercicio 5\n",
    "\n",
    " - A partir de lo visto en clase, *extiendan* las funciones `sin(a::Dual)`,\n",
    " `cos(a::Dual)`, `tan(a::Dual)`, `^(a::Dual, n::Int)`, `sqrt(a::Dual)`, `exp(a::Dual)`\n",
    " y `log(a::Dual)`, al igual que `a^n`, con `a::Dual` y `n::Int`.\n",
    "\n",
    " - Al igual que antes, construyan algún conjunto de pruebas que muestre, de manera\n",
    " sencilla, que lo que hicieron da lo que uno esperaría obtener.\n"
   ]
  },
  {
   "cell_type": "code",
   "execution_count": 59,
   "metadata": {},
   "outputs": [],
   "source": [
    "import Base: sin, cos, tan, sqrt, exp, log\n",
    "Base.sin(x::Dual) = Dual(sin(x.fun), cos(fun(x)) * der(x))\n",
    "Base.cos(x::Dual) = Dual(cos(x.fun), -sin(fun(x)) * der(x))\n",
    "Base.tan(x::Dual) = Dual(tan(x.fun), -sec(fun(x))^2 * der(x))\n",
    "Base.sqrt(x::Dual) = Dual(sqrt(x.fun), .5/sqrt(fun(x)) * der(x))\n",
    "Base.exp(x::Dual) = Dual(exp(x.fun), fun(x) * der(x))\n",
    "Base.log(x::Dual) = Dual(log(x.fun), 1/fun(x) * der(x))"
   ]
  },
  {
   "cell_type": "code",
   "execution_count": 106,
   "metadata": {},
   "outputs": [
    {
     "name": "stdout",
     "output_type": "stream",
     "text": [
      "\u001b[0m\u001b[1mTest Summary: | \u001b[22m\u001b[32m\u001b[1mPass  \u001b[22m\u001b[39m\u001b[36m\u001b[1mTotal  \u001b[22m\u001b[39m\u001b[0m\u001b[1mTime\u001b[22m\n",
      "Trig          | \u001b[32m   6  \u001b[39m\u001b[36m    6  \u001b[39m\u001b[0m0.0s\n"
     ]
    },
    {
     "data": {
      "text/plain": [
       "Test.DefaultTestSet(\"Trig\", Any[], 6, false, false, true, 1.729104363627022e9, 1.729104363638727e9, false, \"/home/mrg/school/2025-1_TSFC1/tareas/raz/jl_notebook_cell_df34fa98e69747e1a8f8a730347b8e2f_X50sZmlsZQ==.jl\")"
      ]
     },
     "metadata": {},
     "output_type": "display_data"
    }
   ],
   "source": [
    "@testset \"Trig\" begin\n",
    "    @test sin(Dual(0.0, 1.0)) == Dual(0, 1)\n",
    "    @test cos(Dual(0, 1)) ≈ Dual(1.0, 0.0)\n",
    "    @test tan(Dual(pi/4, 1)) ≈ Dual(1, -2)\n",
    "    @test sqrt(Dual(9.0, 1.0)) == Dual(3.0, 1/6)\n",
    "    @test exp(Dual(log(2), 1)) == Dual(2.0, log(2))\n",
    "    @test log(Dual(10,2)) ≈ Dual(log(10), 0.2)\n",
    "end"
   ]
  },
  {
   "cell_type": "code",
   "execution_count": null,
   "metadata": {},
   "outputs": [],
   "source": []
  }
 ],
 "metadata": {
  "kernelspec": {
   "display_name": "Julia 1.11.0",
   "language": "julia",
   "name": "julia-1.11"
  },
  "language_info": {
   "file_extension": ".jl",
   "mimetype": "application/julia",
   "name": "julia",
   "version": "1.11.0"
  }
 },
 "nbformat": 4,
 "nbformat_minor": 4
}
