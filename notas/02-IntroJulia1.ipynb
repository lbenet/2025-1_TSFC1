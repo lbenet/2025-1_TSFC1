{
 "cells": [
  {
   "cell_type": "markdown",
   "id": "3c2d0042",
   "metadata": {},
   "source": [
    "# Introducción a Julia 1"
   ]
  },
  {
   "cell_type": "markdown",
   "id": "3e81ee68",
   "metadata": {},
   "source": [
    "Algunos recursos que les pueden ser útiles:\n",
    "\n",
    "- [Instalar Julia & friends](https://juliaacademy.com/p/getting-started-with-juliaacademy).\n",
    "- [Intro to Julia](https://juliaacademy.com/p/intro-to-julia); los notebooks los pueden encontrar [aquí](https://github.com/JuliaAcademy/Introduction-to-Julia).\n",
    "- [Documentación oficial](https://docs.julialang.org/en/v1/): esta liga automáticamente dirige a la última versión de Julia. Esto es lo más útil, pero no es lo más sencillo de leer. Empiecen, si acaso, en [Manual: Getting Started](https://docs.julialang.org/en/v1/manual/getting-started/)\n",
    "\n",
    "- [Introduction to Julia for mathematics undergraduates](https://sje30.github.io/catam-julia/)\n",
    "- [Computational thinking](https://computationalthinking.mit.edu/Fall20/): Excelente curso! "
   ]
  },
  {
   "cell_type": "markdown",
   "id": "6a17179c",
   "metadata": {},
   "source": [
    "---"
   ]
  },
  {
   "cell_type": "markdown",
   "id": "47f30a1e",
   "metadata": {},
   "source": [
    "## Comentarios"
   ]
  },
  {
   "cell_type": "code",
   "execution_count": null,
   "id": "e358540d",
   "metadata": {},
   "outputs": [],
   "source": [
    "# `#` sirve para escribir comentarios en una línea, o el resto de una línea"
   ]
  },
  {
   "cell_type": "code",
   "execution_count": null,
   "id": "83619bca",
   "metadata": {},
   "outputs": [],
   "source": [
    "#=\n",
    "Un *bloque* de varias líneas de comentarios se inicia con `#=`\n",
    "y se termina con `=#`; puede tener las líneas que sea y\n",
    "el formato que se quiera... pero no faltas de ortografía!\n",
    "=#"
   ]
  },
  {
   "cell_type": "markdown",
   "id": "425bd736",
   "metadata": {},
   "source": [
    "## Cómo imprimir en pantalla"
   ]
  },
  {
   "cell_type": "code",
   "execution_count": null,
   "id": "6ef89e15",
   "metadata": {},
   "outputs": [],
   "source": [
    "println(\"Mi primer uso de Julia...\")"
   ]
  },
  {
   "cell_type": "markdown",
   "id": "02627c0c",
   "metadata": {},
   "source": [
    "## Asignar variables"
   ]
  },
  {
   "cell_type": "code",
   "execution_count": null,
   "id": "c0a5cd7d",
   "metadata": {},
   "outputs": [],
   "source": [
    "# nombre_de_la_variable = valor (numérico)\n",
    "respuesta = 42"
   ]
  },
  {
   "cell_type": "code",
   "execution_count": null,
   "id": "90c6819c",
   "metadata": {},
   "outputs": [],
   "source": [
    "# `typeof` da el tipo de la variable `respuesta`\n",
    "typeof(respuesta)"
   ]
  },
  {
   "cell_type": "code",
   "execution_count": null,
   "id": "1d3ff49d",
   "metadata": {},
   "outputs": [],
   "source": [
    "pi_primaria = 3.1416\n",
    "typeof(pi_primaria)"
   ]
  },
  {
   "cell_type": "markdown",
   "id": "1529d728",
   "metadata": {},
   "source": [
    "Una *copia* de una variable (en otra) se logra asignando la segunda a la nueva variable:"
   ]
  },
  {
   "cell_type": "code",
   "execution_count": null,
   "id": "7eeae54c",
   "metadata": {},
   "outputs": [],
   "source": [
    "copia_respuesta = respuesta"
   ]
  },
  {
   "cell_type": "markdown",
   "id": "c13a7899",
   "metadata": {},
   "source": [
    "Una vez asignado un valor a una variable, uno puede reasignar *otro* valor a esa misma variable, de la misma forma en que se hizo la asignación inicial."
   ]
  },
  {
   "cell_type": "code",
   "execution_count": null,
   "id": "8a210bd4",
   "metadata": {},
   "outputs": [],
   "source": [
    "respuesta = 0"
   ]
  },
  {
   "cell_type": "markdown",
   "id": "b349abd0",
   "metadata": {},
   "source": [
    "En general, si se trata de variables \"escalares\", esto no cambia el valor de la copia:"
   ]
  },
  {
   "cell_type": "code",
   "execution_count": null,
   "id": "c5bee78b",
   "metadata": {},
   "outputs": [],
   "source": [
    "copia_respuesta"
   ]
  },
  {
   "cell_type": "markdown",
   "id": "d6c987aa",
   "metadata": {},
   "source": [
    "**NOTA:** Es buena práctica preservar el tipo de la variable, es decir, que el nuevo valor sea del mismo tipo que el original. Por ejemplo, `respuesta` fue reasignada y tiene el valor `0`, pero sigue siendo del mismo tipo que antes."
   ]
  },
  {
   "cell_type": "code",
   "execution_count": null,
   "id": "8e73dd6f",
   "metadata": {},
   "outputs": [],
   "source": [
    "typeof(respuesta)"
   ]
  },
  {
   "cell_type": "markdown",
   "id": "79932196",
   "metadata": {},
   "source": [
    "## Julia como calculadora"
   ]
  },
  {
   "cell_type": "markdown",
   "id": "66c463f5",
   "metadata": {},
   "source": [
    "A pesar de que Julia permite usar \"caracteres especiales\" (como ó, o π), esto puede ser \n",
    "\"complicado\" para editores viejos..."
   ]
  },
  {
   "cell_type": "code",
   "execution_count": null,
   "id": "2c893f55",
   "metadata": {},
   "outputs": [],
   "source": [
    "adicion = 2 + 3"
   ]
  },
  {
   "cell_type": "code",
   "execution_count": null,
   "id": "ee41116c",
   "metadata": {},
   "outputs": [],
   "source": [
    "resta = adicion - 1"
   ]
  },
  {
   "cell_type": "code",
   "execution_count": null,
   "id": "78593b33",
   "metadata": {},
   "outputs": [],
   "source": [
    "multiplicacion = 7 * resta"
   ]
  },
  {
   "cell_type": "code",
   "execution_count": null,
   "id": "21bbb85d",
   "metadata": {},
   "outputs": [],
   "source": [
    "division = multiplicacion / 5"
   ]
  },
  {
   "cell_type": "code",
   "execution_count": null,
   "id": "80862c49",
   "metadata": {},
   "outputs": [],
   "source": [
    "36/7"
   ]
  },
  {
   "cell_type": "code",
   "execution_count": null,
   "id": "d0631af7",
   "metadata": {},
   "outputs": [],
   "source": [
    "potencia = 2^10"
   ]
  },
  {
   "cell_type": "code",
   "execution_count": null,
   "id": "498ece3e",
   "metadata": {},
   "outputs": [],
   "source": [
    "modulo = 23 % 3   # equivale al residuo"
   ]
  },
  {
   "cell_type": "markdown",
   "id": "e5a9b11b",
   "metadata": {},
   "source": [
    "## Ayuda"
   ]
  },
  {
   "cell_type": "markdown",
   "id": "2bce1bc9",
   "metadata": {},
   "source": [
    "Para acceder a la ayuda (\"help\"), inicien con `? <nombre_instruccion>`"
   ]
  },
  {
   "cell_type": "code",
   "execution_count": null,
   "id": "77e72bae",
   "metadata": {},
   "outputs": [],
   "source": [
    "? typeof"
   ]
  },
  {
   "cell_type": "code",
   "execution_count": null,
   "id": "15d920b0",
   "metadata": {},
   "outputs": [],
   "source": [
    "typeof(\"1\")"
   ]
  },
  {
   "cell_type": "code",
   "execution_count": null,
   "id": "b64741ce",
   "metadata": {},
   "outputs": [],
   "source": [
    "parse(Float64, \"1.0\")"
   ]
  },
  {
   "cell_type": "code",
   "execution_count": null,
   "id": "5e2fc5d2",
   "metadata": {},
   "outputs": [],
   "source": [
    "typeof(ans)"
   ]
  },
  {
   "cell_type": "markdown",
   "id": "f2cc1db8",
   "metadata": {},
   "source": [
    "## Cadenas (*strings*)"
   ]
  },
  {
   "cell_type": "markdown",
   "id": "1bd7c4ad-274a-4e19-9191-b20b4a455a01",
   "metadata": {},
   "source": [
    "Una cadena se define entre comillas \"...\", o si ocupa varias líneas, se usa comillas triples \"\"\"...\"\"\"\n"
   ]
  },
  {
   "cell_type": "code",
   "execution_count": null,
   "id": "bf820a8a",
   "metadata": {},
   "outputs": [],
   "source": [
    "cadena = \"Esto es una cadena\""
   ]
  },
  {
   "cell_type": "code",
   "execution_count": null,
   "id": "1fb7b338",
   "metadata": {},
   "outputs": [],
   "source": [
    "cadena_larga = \"\"\"\n",
    "Esta es otra cadena, que en inglés se dice `string`. \n",
    "Si unE es suficientemente buen observadorE,\n",
    "resulta ser una cadena que incluye \"caracteres especiales\".\n",
    "\"\"\""
   ]
  },
  {
   "cell_type": "markdown",
   "id": "679b8578",
   "metadata": {},
   "source": [
    "En lo que se imprimió para `cadena_larga`, noten que las \"nuevas líneas\" se señalan con `\\n`, lo que marca una\n",
    "nueva línea.\n",
    "\n",
    "De igual manera, otras \"secuencias de escape\" (*escape sequences*) permiten marcar tabuladores horizontales (`\\t`), para usar comillas dentro de una cadena (`\\\"`), comilla sencilla (`\\'`), \"backslash\" (`\\\\`), signo \"$\" (`\\$`), entre otras. La necesidad de las secuencias de escape es porque esos símbolos tienen significados particulares."
   ]
  },
  {
   "cell_type": "code",
   "execution_count": null,
   "id": "7e91f0d4",
   "metadata": {},
   "outputs": [],
   "source": [
    "\"Lo siguiente genera un \"error\" por las comillas dentro de comillas\""
   ]
  },
  {
   "cell_type": "markdown",
   "id": "8030e23e",
   "metadata": {},
   "source": [
    "Para yuxtaponer cadenas, es decir, concatenarlas, se usa `*`; la siguiente instrucción de hecho concatena dos cadenas."
   ]
  },
  {
   "cell_type": "code",
   "execution_count": null,
   "id": "98aaf03f",
   "metadata": {},
   "outputs": [],
   "source": [
    "\"Esto evita ése \\\"error\\\",\" * \" o también se puede usar 'esto'...\""
   ]
  },
  {
   "cell_type": "markdown",
   "id": "e112d945",
   "metadata": {},
   "source": [
    "Dentro de las comillas, el símbolo `$` sirve para insertar valores de variables; a eso se le llama \"interpolación\". Por ejemplo:"
   ]
  },
  {
   "cell_type": "code",
   "execution_count": null,
   "id": "3fcb5808",
   "metadata": {},
   "outputs": [],
   "source": [
    "println(\"El valor de pi que se usa en primaria es: $pi_primaria\")"
   ]
  },
  {
   "cell_type": "markdown",
   "id": "b498a97a",
   "metadata": {},
   "source": [
    "Lo siguiente dará otro error:"
   ]
  },
  {
   "cell_type": "code",
   "execution_count": null,
   "id": "11253fc6",
   "metadata": {},
   "outputs": [],
   "source": [
    "'Otro error'"
   ]
  },
  {
   "cell_type": "markdown",
   "id": "10ab2be0",
   "metadata": {},
   "source": [
    "Las comillas sencillas `'` a diferencia de las dobles `\"` permiten definir caracteres (que son del tipo `Char`); los caracteres son las unidades básicas a partir de las que se forman las cadenas."
   ]
  },
  {
   "cell_type": "code",
   "execution_count": null,
   "id": "b716de6e",
   "metadata": {},
   "outputs": [],
   "source": [
    "typeof('β')  # β se obtiene tecleando \"\\beta<TAB>\""
   ]
  },
  {
   "cell_type": "code",
   "execution_count": null,
   "id": "ff61036c",
   "metadata": {},
   "outputs": [],
   "source": [
    "typeof(\"β\")"
   ]
  },
  {
   "cell_type": "markdown",
   "id": "75fec178",
   "metadata": {},
   "source": [
    "## Tuplas, diccionarios y arreglos"
   ]
  },
  {
   "cell_type": "markdown",
   "id": "8b784147",
   "metadata": {},
   "source": [
    "A menudo, uno debe poner en una misma variable varias cosas; las \"estructuras de datos\" \n",
    "(aka *data structures*) más sencillos son las tuplas, los diccionarios y los arreglos."
   ]
  },
  {
   "cell_type": "markdown",
   "id": "e04c5bf6",
   "metadata": {},
   "source": [
    "### Tuplas"
   ]
  },
  {
   "cell_type": "markdown",
   "id": "7cff1b33",
   "metadata": {},
   "source": [
    "Un tupla es una estructura ordenada (*inmutable*!) de objetos. Para definirla, la colección de objetos se escribe entre paréntesis `( )`: \n",
    "```julia\n",
    "( obj1, obj2, obj3, ... )\n",
    "```"
   ]
  },
  {
   "cell_type": "code",
   "execution_count": null,
   "id": "31df5f7e",
   "metadata": {},
   "outputs": [],
   "source": [
    "idiomas = (\"español\", \"catalán\", \"inglés\", \"francés\", \"alemán\")"
   ]
  },
  {
   "cell_type": "markdown",
   "id": "d784b586",
   "metadata": {},
   "source": [
    "Para obtener el valor de un elemento de una tupla, usamos su índice, que se empieza a contar desde 1. Por ejemplo, el elemento cuyo índice es el 2 es: "
   ]
  },
  {
   "cell_type": "code",
   "execution_count": null,
   "id": "b1a1de2c",
   "metadata": {},
   "outputs": [],
   "source": [
    "typeof(idiomas)"
   ]
  },
  {
   "cell_type": "code",
   "execution_count": null,
   "id": "d7ef057a",
   "metadata": {},
   "outputs": [],
   "source": [
    "idiomas[1]"
   ]
  },
  {
   "cell_type": "markdown",
   "id": "fb712c75",
   "metadata": {},
   "source": [
    "El hecho de que las tuplas sean *inmutables* significa que no podemos cambiar el valor de cada elemento:"
   ]
  },
  {
   "cell_type": "code",
   "execution_count": null,
   "id": "a89a3d99",
   "metadata": {},
   "outputs": [],
   "source": [
    "idiomas[2] = \"gallego\""
   ]
  },
  {
   "cell_type": "markdown",
   "id": "84af93f8-8cfe-44c0-83e1-c0aef5cc6c16",
   "metadata": {},
   "source": [
    "Tampoco podemos extenderlas..."
   ]
  },
  {
   "cell_type": "code",
   "execution_count": null,
   "id": "f3d23e2f",
   "metadata": {},
   "outputs": [],
   "source": [
    "push!(idiomas, \"chino\")"
   ]
  },
  {
   "cell_type": "markdown",
   "id": "f3d08c9f",
   "metadata": {},
   "source": [
    "Existe una variación sobre las tuplas, en que cada elemento de la tupla tiene un nombre. Para hacer referencia a un elemento, podemos seguir usando la posición, pero también el nombre/etiqueta:"
   ]
  },
  {
   "cell_type": "code",
   "execution_count": null,
   "id": "4d681dbe",
   "metadata": {},
   "outputs": [],
   "source": [
    "tupla_nombres = (animal=\"gato\", dígito=7, racional=\"1//1\", otracosa=\"lalal\")"
   ]
  },
  {
   "cell_type": "code",
   "execution_count": null,
   "id": "d72225f3",
   "metadata": {},
   "outputs": [],
   "source": [
    "typeof(tupla_nombres)"
   ]
  },
  {
   "cell_type": "markdown",
   "id": "bcd9c12d-74a9-43ac-82cd-8014db33f73a",
   "metadata": {},
   "source": [
    "Para acceder al campo de una tupla usando el nombre, usamos la forma `<tupla>.<nombre>`:"
   ]
  },
  {
   "cell_type": "code",
   "execution_count": null,
   "id": "d389aea8",
   "metadata": {},
   "outputs": [],
   "source": [
    "tupla_nombres.racional"
   ]
  },
  {
   "cell_type": "markdown",
   "id": "0930fccb",
   "metadata": {},
   "source": [
    "Una tupla puede consistir de elementos diversos, o sea, que sean de tipos distintos:"
   ]
  },
  {
   "cell_type": "code",
   "execution_count": null,
   "id": "62f6a378",
   "metadata": {},
   "outputs": [],
   "source": [
    "tupla_curiosa = (1, 1.0, 1//1, complex(1, 0), big(1.0), \"uno\", :uno, (1, 1.0))"
   ]
  },
  {
   "cell_type": "code",
   "execution_count": null,
   "id": "e87c6297",
   "metadata": {},
   "outputs": [],
   "source": [
    "typeof(tupla_curiosa)"
   ]
  },
  {
   "cell_type": "code",
   "execution_count": null,
   "id": "4d72ea97",
   "metadata": {},
   "outputs": [],
   "source": [
    "typeof(idiomas)"
   ]
  },
  {
   "cell_type": "markdown",
   "id": "5ee48783",
   "metadata": {},
   "source": [
    "### Diccionarios"
   ]
  },
  {
   "cell_type": "markdown",
   "id": "5c238854",
   "metadata": {},
   "source": [
    "Una estructura que liga dos conjuntos de datos puede ser almacenada como un diccionario. Los diccionarios son estructuras mutables, lo que permite llevar a cabo cambios, a diferencia de las tuplas.\n",
    "\n",
    "Usando\n",
    "```julia\n",
    "Dict()\n",
    "```\n",
    "se crea a un diccionario vació, que eventualmente se puede llenar. Otra manera de crear un diccionario es con la sintaxis:\n",
    "```julia\n",
    "Dict(key1 => value1, key2 => value2, ... )\n",
    "```"
   ]
  },
  {
   "cell_type": "code",
   "execution_count": null,
   "id": "6e1278ec",
   "metadata": {},
   "outputs": [],
   "source": [
    "calificaciones = Dict( \"FulanitE\" => 10, \"MenganitE\" => 6, \n",
    "    \"PerenganitE\" => \"NP\")"
   ]
  },
  {
   "cell_type": "markdown",
   "id": "79828482",
   "metadata": {},
   "source": [
    "Para acceder al contenido del diccionario, usamos la misma notación que antes (para las tuplas), pero indizando el valor de la llave (*key*)"
   ]
  },
  {
   "cell_type": "code",
   "execution_count": null,
   "id": "632525e0",
   "metadata": {},
   "outputs": [],
   "source": [
    "calificaciones[\"FulanitE\"]"
   ]
  },
  {
   "cell_type": "markdown",
   "id": "4df2278b-8a5c-4a60-be26-1c0dc382035c",
   "metadata": {},
   "source": [
    "Se puede acceder todos los campos definidos en un diccionario usand `keys`, al igual que todos los valores que se obtienen, usando `values`:"
   ]
  },
  {
   "cell_type": "code",
   "execution_count": null,
   "id": "9b7a71ec",
   "metadata": {},
   "outputs": [],
   "source": [
    "keys(calificaciones)"
   ]
  },
  {
   "cell_type": "code",
   "execution_count": null,
   "id": "0a793787",
   "metadata": {},
   "outputs": [],
   "source": [
    "values(calificaciones)"
   ]
  },
  {
   "cell_type": "markdown",
   "id": "483c8617",
   "metadata": {},
   "source": [
    "Podemos cambiar el contenido de un diccionario, por ejemplo, borrando una llave, cambiando otra, o agregando una más"
   ]
  },
  {
   "cell_type": "code",
   "execution_count": null,
   "id": "1af4943e",
   "metadata": {},
   "outputs": [],
   "source": [
    "pop!(calificaciones, \"PerenganitE\") # borramos la entrada de \"PerenganitE\""
   ]
  },
  {
   "cell_type": "code",
   "execution_count": null,
   "id": "fca45ff3",
   "metadata": {},
   "outputs": [],
   "source": [
    "calificaciones"
   ]
  },
  {
   "cell_type": "markdown",
   "id": "cd4cc76c-d25d-4e98-b61b-e99d51fcc50d",
   "metadata": {},
   "source": [
    "También podemos cambiar el valor asignado a cierta entrada del diccionario, o agregar un nuevo valor:"
   ]
  },
  {
   "cell_type": "code",
   "execution_count": null,
   "id": "2b2e27a1",
   "metadata": {},
   "outputs": [],
   "source": [
    "calificaciones[\"FulanitE\"] = 8"
   ]
  },
  {
   "cell_type": "code",
   "execution_count": null,
   "id": "d9a256a3",
   "metadata": {},
   "outputs": [],
   "source": [
    "calificaciones"
   ]
  },
  {
   "cell_type": "code",
   "execution_count": null,
   "id": "dcc127db",
   "metadata": {},
   "outputs": [],
   "source": [
    "push!(calificaciones, \"Manolito\" => 5);"
   ]
  },
  {
   "cell_type": "code",
   "execution_count": null,
   "id": "14e58363-aab6-48e6-9df2-3227985d4a03",
   "metadata": {},
   "outputs": [],
   "source": [
    "calificaciones"
   ]
  },
  {
   "cell_type": "markdown",
   "id": "8611b49a",
   "metadata": {},
   "source": [
    "### Arreglos (vectores y más)"
   ]
  },
  {
   "cell_type": "markdown",
   "id": "c8990999",
   "metadata": {},
   "source": [
    "Los arreglos, a diferencia de las tuplas, y al igual que los diccionarios son *mutables*. Para construir un arreglo, usamos la sintaxis:\n",
    "```julia\n",
    "[obj1, obj2, obj3, ... ]\n",
    "```"
   ]
  },
  {
   "cell_type": "markdown",
   "id": "6346a386",
   "metadata": {},
   "source": [
    "Si es posible, los elementos de un vector se *homogeinizan* al mismo tipo"
   ]
  },
  {
   "cell_type": "code",
   "execution_count": null,
   "id": "bed7ed6b",
   "metadata": {},
   "outputs": [],
   "source": [
    "coeficientes_exp = [1, 1, 0.5, 1/6, 1/24]"
   ]
  },
  {
   "cell_type": "code",
   "execution_count": null,
   "id": "dacf4972",
   "metadata": {},
   "outputs": [],
   "source": [
    "typeof(coeficientes_exp)"
   ]
  },
  {
   "cell_type": "markdown",
   "id": "955da47a",
   "metadata": {},
   "source": [
    "El tipo `Array{Float64, 1}` denota que se trata de un arreglo, cuyos elementos son `Float64` (a pesar de que algunos que incluímos eran enteros), y su dimensión es 1."
   ]
  },
  {
   "cell_type": "code",
   "execution_count": null,
   "id": "bb49a0ce",
   "metadata": {},
   "outputs": [],
   "source": [
    "vector_mezclado = [cos, \"cos\", :cos]"
   ]
  },
  {
   "cell_type": "markdown",
   "id": "750a1b1d",
   "metadata": {},
   "source": [
    "El hecho de que el tipo de los elementos del vector sea `Any` hace que la manera en que se almacena este vector en memoria es menos eficiente."
   ]
  },
  {
   "cell_type": "markdown",
   "id": "c278f911",
   "metadata": {},
   "source": [
    "Los elementos del vector se accesan de la misma manera que para las tuplas, a través del índice del elemento, que en general inicia con 1 (aunque esto puede ser cambiado):"
   ]
  },
  {
   "cell_type": "code",
   "execution_count": null,
   "id": "e256a8cf",
   "metadata": {},
   "outputs": [],
   "source": [
    "vector_mezclado[1]"
   ]
  },
  {
   "cell_type": "code",
   "execution_count": null,
   "id": "80774098",
   "metadata": {},
   "outputs": [],
   "source": [
    "coeficientes_exp[end]"
   ]
  },
  {
   "cell_type": "markdown",
   "id": "5a61632c",
   "metadata": {},
   "source": [
    "Dado que los vectores son mutables, uno puede borrar un elemento, cambiarlo, o agregar nuevos elementos:"
   ]
  },
  {
   "cell_type": "code",
   "execution_count": null,
   "id": "62a7c8b9",
   "metadata": {},
   "outputs": [],
   "source": [
    "push!(coeficientes_exp, 1/120)"
   ]
  },
  {
   "cell_type": "code",
   "execution_count": null,
   "id": "675ca3d9-0317-4a7a-ad10-b405b8cfa841",
   "metadata": {},
   "outputs": [],
   "source": [
    "vector_mezclado"
   ]
  },
  {
   "cell_type": "code",
   "execution_count": null,
   "id": "48b3eff2",
   "metadata": {},
   "outputs": [],
   "source": [
    "pop!(vector_mezclado)"
   ]
  },
  {
   "cell_type": "code",
   "execution_count": null,
   "id": "0475873d",
   "metadata": {},
   "outputs": [],
   "source": [
    "vector_mezclado"
   ]
  },
  {
   "cell_type": "code",
   "execution_count": null,
   "id": "2ed588f6",
   "metadata": {},
   "outputs": [],
   "source": [
    "# insert! sirve para insertar un elemento en un lugar específico\n",
    "insert!(vector_mezclado, 2, :cos)"
   ]
  },
  {
   "cell_type": "markdown",
   "id": "81d87c4f",
   "metadata": {},
   "source": [
    "Para crear un arreglo de dimensión 2, podemos hacer un vector de vectores:"
   ]
  },
  {
   "cell_type": "code",
   "execution_count": null,
   "id": "f11b7bf5",
   "metadata": {},
   "outputs": [],
   "source": [
    "vec_vec = [[1, 2], [3, 4]]"
   ]
  },
  {
   "cell_type": "markdown",
   "id": "4ee297d4",
   "metadata": {},
   "source": [
    "Esto, sin embargo, no es (internamente) una matriz; para conseguilo usamos:"
   ]
  },
  {
   "cell_type": "code",
   "execution_count": null,
   "id": "a5b87877",
   "metadata": {},
   "outputs": [],
   "source": [
    "# Noten los espacios en blanco y el uso de `;`\n",
    "mat = [ 1 2; 3 4; 5 6]"
   ]
  },
  {
   "cell_type": "markdown",
   "id": "a602b16e-63dd-4655-977b-b92a8f904bd6",
   "metadata": {},
   "source": [
    "Para crear una matriz con un único elemento usamos la notación:"
   ]
  },
  {
   "cell_type": "code",
   "execution_count": null,
   "id": "a5371fa2-9180-4c46-b501-4ec4479c1d53",
   "metadata": {},
   "outputs": [],
   "source": [
    "[1;;]"
   ]
  },
  {
   "cell_type": "code",
   "execution_count": null,
   "id": "6677915f-929b-4a31-a3d2-f6f7fec4308e",
   "metadata": {},
   "outputs": [],
   "source": [
    "@Meta.dump([1;])"
   ]
  },
  {
   "cell_type": "code",
   "execution_count": null,
   "id": "53a8b68e-03fd-472d-b7ef-744db5372503",
   "metadata": {},
   "outputs": [],
   "source": [
    "typeof(mat)"
   ]
  },
  {
   "cell_type": "markdown",
   "id": "de7d99ae-4d18-4e06-995a-9abe9aab826a",
   "metadata": {},
   "source": [
    "Arreglos con más dimensiones (tres en el sigiuente ejemplo), se construyen con la notación de `;` repetidos:"
   ]
  },
  {
   "cell_type": "code",
   "execution_count": null,
   "id": "4cbc8a74-ef40-424a-940d-5885e6eebbcb",
   "metadata": {},
   "outputs": [],
   "source": [
    "[ 1 2; 3 4;;; 1 2; 3 4;]"
   ]
  },
  {
   "cell_type": "markdown",
   "id": "831056cf",
   "metadata": {},
   "source": [
    "Los elementos se acceden usando apropiadamente índices:"
   ]
  },
  {
   "cell_type": "code",
   "execution_count": null,
   "id": "57e3a648",
   "metadata": {},
   "outputs": [],
   "source": [
    "vec_vec[1][2]"
   ]
  },
  {
   "cell_type": "code",
   "execution_count": null,
   "id": "7218d72f-4697-4a45-8497-7de5b09747ab",
   "metadata": {},
   "outputs": [],
   "source": [
    "mat[1, 2]"
   ]
  },
  {
   "cell_type": "markdown",
   "id": "14d61054",
   "metadata": {},
   "source": [
    "El índice rápido para una matriz es el primero. Esto significa que si uno quiere recorrer, de manera rápida, todos los elementos, el primer índice debe ser el más interno en un ciclo. \n",
    "\n",
    "Julia permite \"recorrer\" una matriz usando tan sólo un índice para una matriz (u otros arreglos) en lugar de dos (o más). Como ejemplo, para la matriz `mat`, los valore en memoria están almacenados como: 1 -> 3 -> 2 -> 4. A este tipo de índices (con un sólo índice en lugar de más) se le llaman índices lineales, mientras que a los que incluyen tantos índices como la dimensión, se les llama índices cartesianos.\n",
    "\n",
    "Entonces:"
   ]
  },
  {
   "cell_type": "code",
   "execution_count": null,
   "id": "de69966b",
   "metadata": {},
   "outputs": [],
   "source": [
    "mat[1], mat[2], mat[3], mat[4]"
   ]
  },
  {
   "cell_type": "markdown",
   "id": "b21ca72b",
   "metadata": {},
   "source": [
    "Noten que el orden de los índices para `mat` es el *mismo* que se usa cuando uno indiza una matriz en matemáticas."
   ]
  },
  {
   "cell_type": "markdown",
   "id": "d64a36b1-59e3-4349-802a-2d2ff4dd471a",
   "metadata": {},
   "source": [
    "Para crear una matriz una matriz (dimensión 2!) de números aleatorios podemos usar "
   ]
  },
  {
   "cell_type": "code",
   "execution_count": null,
   "id": "047830bb",
   "metadata": {},
   "outputs": [],
   "source": [
    "rand(4, 3) # 4 renglones, 3 columnas"
   ]
  },
  {
   "cell_type": "markdown",
   "id": "86c2b2aa",
   "metadata": {},
   "source": [
    "Y, para tener un objeto de dimensión 3, usamos algo similar:"
   ]
  },
  {
   "cell_type": "code",
   "execution_count": null,
   "id": "3ccb4d85",
   "metadata": {},
   "outputs": [],
   "source": [
    "rand(24,3,2) # un arreglo de dimensión 3"
   ]
  },
  {
   "cell_type": "markdown",
   "id": "1930b67e-f68c-4ad1-9791-c99600f396d3",
   "metadata": {},
   "source": [
    "De igual manera, se pueden generar arreglos complejos con otros tipos:"
   ]
  },
  {
   "cell_type": "code",
   "execution_count": null,
   "id": "3a570f28-b0f1-4416-93a4-47d609df5001",
   "metadata": {},
   "outputs": [],
   "source": [
    "rand(Complex{Float64}, 4, 3)"
   ]
  },
  {
   "cell_type": "markdown",
   "id": "fb521e3f",
   "metadata": {},
   "source": [
    "Dado que los arreglos se pueden llenar, es útil a veces crearlos de antemano. Para esto usamos la sintaxis:\n",
    "```julia\n",
    "Array{T,N}(undef, n1, n2, ... nN)\n",
    "```\n",
    "Aquí, `undef` significa que el valor es indefinido, aunque en ciertos casos puede tener un valor...."
   ]
  },
  {
   "cell_type": "code",
   "execution_count": null,
   "id": "4b33f9b3",
   "metadata": {},
   "outputs": [],
   "source": [
    "aa = Array{Float64}(undef, 2, 3)"
   ]
  },
  {
   "cell_type": "markdown",
   "id": "c447aaf2",
   "metadata": {},
   "source": [
    "Cuando uno trabaja con vectores, hay que ser cuidadoso si se quieren hacer copias. Por ejemplo, una asignación (ingenua) crea una \"copia\" que no es independiente, en el sentido de que si se cambia un elemento (de una de las variables que son arreglo), también se le cambia a la otra:"
   ]
  },
  {
   "cell_type": "code",
   "execution_count": null,
   "id": "36bc635a",
   "metadata": {},
   "outputs": [],
   "source": [
    "bb = aa\n",
    "bb[1,1] = 3"
   ]
  },
  {
   "cell_type": "code",
   "execution_count": null,
   "id": "36a4a400",
   "metadata": {},
   "outputs": [],
   "source": [
    "bb"
   ]
  },
  {
   "cell_type": "code",
   "execution_count": null,
   "id": "626b9832",
   "metadata": {},
   "outputs": [],
   "source": [
    "aa"
   ]
  },
  {
   "cell_type": "code",
   "execution_count": null,
   "id": "6822c11d",
   "metadata": {},
   "outputs": [],
   "source": [
    "aa[2] = 0.1"
   ]
  },
  {
   "cell_type": "code",
   "execution_count": null,
   "id": "8347b39c",
   "metadata": {},
   "outputs": [],
   "source": [
    "bb"
   ]
  },
  {
   "cell_type": "markdown",
   "id": "dc703b73",
   "metadata": {},
   "source": [
    "Cambios en `aa` o en `bb` afectarán al otro objeto, que de hecho es el mismo."
   ]
  },
  {
   "cell_type": "code",
   "execution_count": null,
   "id": "ee818d6b-8601-473d-9138-a2c4c4cdf470",
   "metadata": {},
   "outputs": [],
   "source": [
    "aa == bb # igualdad de los elementos"
   ]
  },
  {
   "cell_type": "code",
   "execution_count": null,
   "id": "da3291cf-74f3-4ee1-946f-f05d3a002736",
   "metadata": {},
   "outputs": [],
   "source": [
    "aa === bb # identidad de los objetos !!"
   ]
  },
  {
   "cell_type": "markdown",
   "id": "a1495a14",
   "metadata": {},
   "source": [
    "Para lograr una copia independiente, hay que usar `copy`"
   ]
  },
  {
   "cell_type": "code",
   "execution_count": null,
   "id": "52fe566d",
   "metadata": {},
   "outputs": [],
   "source": [
    "bb = copy(aa)"
   ]
  },
  {
   "cell_type": "code",
   "execution_count": null,
   "id": "5a5ed9c3",
   "metadata": {},
   "outputs": [],
   "source": [
    "aa[1] = 8"
   ]
  },
  {
   "cell_type": "code",
   "execution_count": null,
   "id": "5a4c262f",
   "metadata": {},
   "outputs": [],
   "source": [
    "bb"
   ]
  },
  {
   "cell_type": "code",
   "execution_count": null,
   "id": "e49a904e",
   "metadata": {},
   "outputs": [],
   "source": [
    "aa"
   ]
  },
  {
   "cell_type": "markdown",
   "id": "8a127e8a-e425-4806-95ed-3123e765b42b",
   "metadata": {},
   "source": [
    "Existen también las \"vistas\", que son útiles porque no crean copias, y entonces uno reusa la memoria."
   ]
  },
  {
   "cell_type": "code",
   "execution_count": null,
   "id": "42a5a1ea-adf8-4ee2-85fc-e46715de8110",
   "metadata": {},
   "outputs": [],
   "source": [
    "dd = rand(5, 4)"
   ]
  },
  {
   "cell_type": "code",
   "execution_count": null,
   "id": "6b76d18a",
   "metadata": {},
   "outputs": [],
   "source": [
    "cc = view(dd, 1:3, 2:3:4)"
   ]
  },
  {
   "cell_type": "code",
   "execution_count": null,
   "id": "302b1751-f850-4947-af9f-318b24896527",
   "metadata": {},
   "outputs": [],
   "source": [
    "cc[1] = 8.2"
   ]
  },
  {
   "cell_type": "code",
   "execution_count": null,
   "id": "f1e80f6c-1597-4111-8fb2-40350a5770a2",
   "metadata": {},
   "outputs": [],
   "source": [
    "bb"
   ]
  },
  {
   "cell_type": "code",
   "execution_count": null,
   "id": "612d7c28",
   "metadata": {
    "editable": true,
    "slideshow": {
     "slide_type": ""
    },
    "tags": []
   },
   "outputs": [],
   "source": [
    "typeof(cc)"
   ]
  },
  {
   "cell_type": "markdown",
   "id": "4a0544f6",
   "metadata": {},
   "source": [
    "## Ciclos (*loops*)"
   ]
  },
  {
   "cell_type": "markdown",
   "id": "161eca1c",
   "metadata": {},
   "source": [
    "Si hay que hacer de manera repetida algo esencialmente idéntico, uno utiliza ciclos. En Julia hay dos maneras esenciales de implementarlos:\n",
    "\n",
    "- Ciclos `while`\n",
    "```julia\n",
    "while _condicion_\n",
    "    _código_\n",
    "end\n",
    "```\n",
    "\n",
    "- Ciclos `for`\n",
    "```julia\n",
    "for _iterador_\n",
    "    _código\n",
    "end\n",
    "```"
   ]
  },
  {
   "cell_type": "code",
   "execution_count": null,
   "id": "465bfc96",
   "metadata": {},
   "outputs": [],
   "source": [
    "n = -2  # Si no inicializamos esta variable, hay un error (`n` no existe!)\n",
    "while n < 5\n",
    "    print(n)  # `println` cambia a la siguiente línea, mientras que `print` no\n",
    "    n += 1\n",
    "    p = n\n",
    "    print(p)\n",
    "end"
   ]
  },
  {
   "cell_type": "code",
   "execution_count": null,
   "id": "b819c507",
   "metadata": {},
   "outputs": [],
   "source": [
    "p # `p` sólo existe en el alcance/contexto (scope) del ciclo `whilw`"
   ]
  },
  {
   "cell_type": "code",
   "execution_count": null,
   "id": "97886b2f",
   "metadata": {},
   "outputs": [],
   "source": [
    "for i = 0:5   # OJO: este es distinto en python!\n",
    "    print(i)\n",
    "end"
   ]
  },
  {
   "cell_type": "markdown",
   "id": "bc2df56a",
   "metadata": {},
   "source": [
    "Al igual que antes, noten que `i` sólo existe *dentro* del bloque `for...end`. La propiedad que describe esta situación, que una variable sólo exista en cierta parte del código se llama \"alcance\" (*scope*). Las variables usadas dentro de un ciclo `for...end`, si no existen antes, sólo existen ahí; se dice en este caso que el alcance es local."
   ]
  },
  {
   "cell_type": "code",
   "execution_count": null,
   "id": "b4a16743",
   "metadata": {},
   "outputs": [],
   "source": [
    "i"
   ]
  },
  {
   "cell_type": "markdown",
   "id": "41f31039",
   "metadata": {},
   "source": [
    "La notación `0:5` define un rango unitario, que empieza en `0` y que termina en `5` (y no en `4`, como sería en python)"
   ]
  },
  {
   "cell_type": "code",
   "execution_count": null,
   "id": "4785f3f6",
   "metadata": {},
   "outputs": [],
   "source": [
    "typeof(0:5)"
   ]
  },
  {
   "cell_type": "markdown",
   "id": "d140077a",
   "metadata": {},
   "source": [
    "Los vectores y arreglos son objetos iterables (tienen un índice lineal). Entonces, se puede acceder directamente a los elementos:"
   ]
  },
  {
   "cell_type": "code",
   "execution_count": null,
   "id": "e27e23ae",
   "metadata": {},
   "outputs": [],
   "source": [
    "vector_mezclado"
   ]
  },
  {
   "cell_type": "code",
   "execution_count": null,
   "id": "e093732a",
   "metadata": {},
   "outputs": [],
   "source": [
    "aa"
   ]
  },
  {
   "cell_type": "code",
   "execution_count": null,
   "id": "22ee3104",
   "metadata": {},
   "outputs": [],
   "source": [
    "for v ∈ aa\n",
    "    println(v)\n",
    "end"
   ]
  },
  {
   "cell_type": "markdown",
   "id": "d1726aba",
   "metadata": {},
   "source": [
    "Una manera *eficiente* de recorrer todos los índices de un iterador, es usando `eachindex`:"
   ]
  },
  {
   "cell_type": "code",
   "execution_count": null,
   "id": "45c7557b",
   "metadata": {},
   "outputs": [],
   "source": [
    "for i in eachindex(aa)\n",
    "    println(aa[i])\n",
    "end"
   ]
  },
  {
   "cell_type": "markdown",
   "id": "8580ba4b",
   "metadata": {},
   "source": [
    "Como se dijo antes, el índice rápido es el primero. Entonces, para \"recorrer\" rápidamente un arreglo con muchas dimensiones en todos sus índices, el primer índice del arreglo debe corresponder al del ciclo más interno"
   ]
  },
  {
   "cell_type": "code",
   "execution_count": null,
   "id": "720ef736",
   "metadata": {},
   "outputs": [],
   "source": [
    "aa"
   ]
  },
  {
   "cell_type": "code",
   "execution_count": null,
   "id": "d43183e3",
   "metadata": {},
   "outputs": [],
   "source": [
    "for j = 1:3\n",
    "    for i in 1:2\n",
    "        println(i, \"   \", j, \"   \", aa[i,j])\n",
    "    end\n",
    "end"
   ]
  },
  {
   "cell_type": "markdown",
   "id": "2aa347bf",
   "metadata": {},
   "source": [
    "## Condicionales: `if ... else ... end`"
   ]
  },
  {
   "cell_type": "markdown",
   "id": "1a7f02dc",
   "metadata": {},
   "source": [
    "Para decidir algún tipo de condición, uno utiliza el bloque\n",
    "```julia\n",
    "if <condición>\n",
    "    ...\n",
    "elseif <otra_condición>\n",
    "    ...\n",
    "else\n",
    "    ...\n",
    "end\n",
    "```\n",
    "\n",
    "Las condiciones deben resultar en ser `true`, en cuyo caso se ejecuta el bloque, o `false`, en cuyo caso se pasa a la siguiente condición o al `else`.\n",
    "\n",
    "Para definir condiciones, uno puede usar cualquier comparación `==, >, >=, <, ≤, ...`, o funciones, siempre y cuando el resultado sea una variable tipo `Bool`."
   ]
  },
  {
   "cell_type": "code",
   "execution_count": null,
   "id": "b66a7a7b",
   "metadata": {},
   "outputs": [],
   "source": [
    "for i = 1:20\n",
    "    if i%6 == 0\n",
    "        println(\"i=$i es múltiplo de 6\")\n",
    "    elseif i%3 == 0\n",
    "        println(\"i=$i es multiplo de 3\")\n",
    "    else\n",
    "        println(\"i=$i no es múltiplo de 3 o 6\")\n",
    "    end\n",
    "end"
   ]
  },
  {
   "cell_type": "markdown",
   "id": "24faef39",
   "metadata": {},
   "source": [
    "Cuando hay varios `elseif`, el orden es importante..."
   ]
  },
  {
   "cell_type": "code",
   "execution_count": null,
   "id": "faafd773",
   "metadata": {},
   "outputs": [],
   "source": [
    "for i=1:20\n",
    "    if i%3 == 0\n",
    "        println(\"i=$i es múltiplo de 3\")\n",
    "    elseif i%6 == 0\n",
    "        println(\"i=$i es multiplo de 6\")\n",
    "    else\n",
    "        println(\"i=$i no es múltiplo de 3 o 6\")\n",
    "    end\n",
    "end"
   ]
  },
  {
   "cell_type": "markdown",
   "id": "9405b93e",
   "metadata": {},
   "source": [
    "Cuando uno trabaja con variables booleanas, es útil usar las funciones \"or\" (`|`) o \"and\" (`&`)."
   ]
  },
  {
   "cell_type": "code",
   "execution_count": null,
   "id": "f9c33804",
   "metadata": {},
   "outputs": [],
   "source": [
    "for i=1:20\n",
    "    if i%3 == 0 | i%6 == 0\n",
    "        println(\"i=$i es multiplo de 3 o 6\")\n",
    "    else\n",
    "        println(\"i=$i **no** es múltiplo de 3 o 6\")\n",
    "    end\n",
    "end"
   ]
  },
  {
   "cell_type": "code",
   "execution_count": null,
   "id": "72f1b81b",
   "metadata": {},
   "outputs": [],
   "source": [
    "# `@show` permite ver el resultado de lo que se ejecuta, y usar ese resultado\n",
    "for i=1:20\n",
    "    if @show((i%3 == 0) | (i%6 == 0))\n",
    "        println(\"i=$i es múltiplo de 3 o 6\")\n",
    "    end\n",
    "end"
   ]
  },
  {
   "cell_type": "markdown",
   "id": "f3c66324",
   "metadata": {},
   "source": [
    "Los operadores `|` o `&` evalúan ambos lados de los operadores"
   ]
  },
  {
   "cell_type": "code",
   "execution_count": null,
   "id": "3e8e6744",
   "metadata": {},
   "outputs": [],
   "source": [
    "for i=1:10\n",
    "    if (@show(i%3 == 0)) | (@show(i%6 == 0))\n",
    "        println(\"i=$i es multiplo de 3 o 6\")\n",
    "    end\n",
    "end"
   ]
  },
  {
   "cell_type": "markdown",
   "id": "1b0b73bc",
   "metadata": {},
   "source": [
    "Para evitar la doble ejecución de los operadores lógicos, uno puede usar los operadores de \"corto circuito\", `||` y `&&`. \n",
    "\n",
    "A diferencia de los operadores `|` y `&`, los operadores de corto circuito *pueden* sólo evaluar un lado (el primero), por ejemplo, cuando la condición es suficiente para tener la resupuesta. Claramente, el orden importa..."
   ]
  },
  {
   "cell_type": "code",
   "execution_count": null,
   "id": "17769aba",
   "metadata": {},
   "outputs": [],
   "source": [
    "for i=1:10\n",
    "    if (@show(i%3 == 0)) || (@show(i%6 == 0))\n",
    "        println(\"i=$i es multiplo de 3 o 6\")\n",
    "    end\n",
    "end"
   ]
  },
  {
   "cell_type": "markdown",
   "id": "e6476105",
   "metadata": {},
   "source": [
    "Entonces, si queremos construir la tabla de verdad, podemos hacer"
   ]
  },
  {
   "cell_type": "code",
   "execution_count": null,
   "id": "c8d22970",
   "metadata": {},
   "outputs": [],
   "source": [
    "for b1 in (false, true)\n",
    "    for b2 in (false, true)\n",
    "        (@show(b1)) || (@show(b2))\n",
    "        @show(b1 || b2)\n",
    "        println()\n",
    "    end\n",
    "end"
   ]
  },
  {
   "cell_type": "code",
   "execution_count": null,
   "id": "08aa236e",
   "metadata": {},
   "outputs": [],
   "source": [
    "for b1 in (false, true)\n",
    "    for b2 in (false, true)\n",
    "        (@show(b1)) && (@show(b2))\n",
    "        @show(b1 && b2)\n",
    "        println()\n",
    "    end\n",
    "end"
   ]
  },
  {
   "cell_type": "markdown",
   "id": "751e7085",
   "metadata": {},
   "source": [
    "Los operadores de corto circuito, a diferencia de los operadores lógicos, permiten hacer de manera muy comprimida un `if ... else ...`, incluyendo la ejecución de funciones"
   ]
  },
  {
   "cell_type": "code",
   "execution_count": null,
   "id": "650ef70d",
   "metadata": {},
   "outputs": [],
   "source": [
    "respuesta"
   ]
  },
  {
   "cell_type": "code",
   "execution_count": null,
   "id": "7e187654",
   "metadata": {},
   "outputs": [],
   "source": [
    "true && (respuesta += 1)\n",
    "respuesta"
   ]
  },
  {
   "cell_type": "code",
   "execution_count": null,
   "id": "08aa1a80",
   "metadata": {},
   "outputs": [],
   "source": [
    "respuesta"
   ]
  },
  {
   "cell_type": "code",
   "execution_count": null,
   "id": "62c9f7ce",
   "metadata": {},
   "outputs": [],
   "source": [
    "false || isodd(respuesta)"
   ]
  },
  {
   "cell_type": "markdown",
   "id": "bf93b808",
   "metadata": {},
   "source": [
    "Esta forma de usar los condicionales es común, por ejemplo, cuando se debe decir continuar (`continue`) o interrumpir (`break`) un ciclo."
   ]
  },
  {
   "cell_type": "code",
   "execution_count": null,
   "id": "4a62347a",
   "metadata": {},
   "outputs": [],
   "source": [
    "for i=1:20\n",
    "    println(i)\n",
    "    i%3 != 0 && continue\n",
    "    println(\"i=$i es múltiplo de 3\")\n",
    "    i%6 == 0 && break\n",
    "end"
   ]
  },
  {
   "cell_type": "markdown",
   "id": "fdf67cdc",
   "metadata": {},
   "source": [
    "## Funciones"
   ]
  },
  {
   "cell_type": "markdown",
   "id": "8c366407",
   "metadata": {},
   "source": [
    "Julia permite definir funciones de diversas maneras."
   ]
  },
  {
   "cell_type": "code",
   "execution_count": null,
   "id": "c318f552",
   "metadata": {},
   "outputs": [],
   "source": [
    "f(x) = x^2"
   ]
  },
  {
   "cell_type": "code",
   "execution_count": null,
   "id": "bbd352e5-a451-4f45-a4ac-5b26f2f56607",
   "metadata": {},
   "outputs": [],
   "source": [
    "f(2.0)"
   ]
  },
  {
   "cell_type": "code",
   "execution_count": null,
   "id": "29dba637",
   "metadata": {},
   "outputs": [],
   "source": [
    "f(10237462931746123745273465823917231923)"
   ]
  },
  {
   "cell_type": "markdown",
   "id": "4f38a917-4eb9-401c-834a-9b4f2c49b941",
   "metadata": {},
   "source": [
    "La respuesta anterior aparentemente está mal; de hecho es correcta, dado que los enteros (de formato no extendido) tienen una aritmética modular."
   ]
  },
  {
   "cell_type": "code",
   "execution_count": null,
   "id": "88f1825d",
   "metadata": {},
   "outputs": [],
   "source": [
    "typeof(ans)"
   ]
  },
  {
   "cell_type": "code",
   "execution_count": null,
   "id": "8891cf68",
   "metadata": {},
   "outputs": [],
   "source": [
    "f(big(10237462931746123745273465823917231923))"
   ]
  },
  {
   "cell_type": "code",
   "execution_count": null,
   "id": "23f09e86",
   "metadata": {},
   "outputs": [],
   "source": [
    "typeof(ans)"
   ]
  },
  {
   "cell_type": "code",
   "execution_count": null,
   "id": "46ea1965",
   "metadata": {},
   "outputs": [],
   "source": [
    "# El `return` no es necesario, pero útil. Si no se escribe, el valor del último cálculo es el que se devuelve\n",
    "function f1(x)\n",
    "    return x^2\n",
    "end"
   ]
  },
  {
   "cell_type": "code",
   "execution_count": null,
   "id": "3fb3ce43",
   "metadata": {},
   "outputs": [],
   "source": [
    "f1(complex(0,1))"
   ]
  },
  {
   "cell_type": "code",
   "execution_count": null,
   "id": "4c84f4fa",
   "metadata": {},
   "outputs": [],
   "source": [
    "f(ans)"
   ]
  },
  {
   "cell_type": "code",
   "execution_count": null,
   "id": "91ea1a86",
   "metadata": {},
   "outputs": [],
   "source": [
    "f2 = x -> x^2"
   ]
  },
  {
   "cell_type": "code",
   "execution_count": null,
   "id": "f39227b5",
   "metadata": {},
   "outputs": [],
   "source": [
    "f2(3)"
   ]
  },
  {
   "cell_type": "markdown",
   "id": "bc34457a",
   "metadata": {},
   "source": [
    "Julia permite usar las funciones con cualquier valor, si es que eso tiene sentido. Con los ejemplos anteriores tenemos:"
   ]
  },
  {
   "cell_type": "code",
   "execution_count": null,
   "id": "89970cad",
   "metadata": {},
   "outputs": [],
   "source": [
    "f(2//1)"
   ]
  },
  {
   "cell_type": "code",
   "execution_count": null,
   "id": "f950d54e",
   "metadata": {},
   "outputs": [],
   "source": [
    "f1(big(2))"
   ]
  },
  {
   "cell_type": "code",
   "execution_count": null,
   "id": "7355bf7a-0076-4e5c-ab0c-79e78ca387a2",
   "metadata": {},
   "outputs": [],
   "source": [
    "typeof(ans)"
   ]
  },
  {
   "cell_type": "code",
   "execution_count": null,
   "id": "21ba6862",
   "metadata": {},
   "outputs": [],
   "source": [
    "f2(\"dos\")"
   ]
  },
  {
   "cell_type": "code",
   "execution_count": null,
   "id": "f85cea7f",
   "metadata": {},
   "outputs": [],
   "source": [
    "mat = rand(1:5, 2, 2)"
   ]
  },
  {
   "cell_type": "code",
   "execution_count": null,
   "id": "a783034e",
   "metadata": {},
   "outputs": [],
   "source": [
    "f2(mat)"
   ]
  },
  {
   "cell_type": "code",
   "execution_count": null,
   "id": "7d9f5f88",
   "metadata": {},
   "outputs": [],
   "source": [
    "f2.([1, 2])"
   ]
  },
  {
   "cell_type": "markdown",
   "id": "87641cd9",
   "metadata": {},
   "source": [
    "Uno puede nombrar con casi libertad total a las funciones; hay pocas excepciones que no se pueden usar. Lo útil es usar nombres distintos, aunque se permite sobrecargar el uso del nombre de una función, y que se usará en condiciones particulares.\n",
    "\n",
    "Por **convención**, si el resultado de una función *muta* (cambia) uno de los argumentos de entrada, entonces se usa en el nombre el símbolo `!`. Uno puede seguir o no la convención, pero es mejor seguirla..."
   ]
  },
  {
   "cell_type": "code",
   "execution_count": null,
   "id": "3d834e2c",
   "metadata": {},
   "outputs": [],
   "source": [
    "v1 = rand(8)"
   ]
  },
  {
   "cell_type": "code",
   "execution_count": null,
   "id": "1bcd19eb",
   "metadata": {},
   "outputs": [],
   "source": [
    "v2 = sort(v1) # Devuelve un arreglo ordenado con las entradas de `v1` de menor a mayor, sin alterar `v1`"
   ]
  },
  {
   "cell_type": "code",
   "execution_count": null,
   "id": "b935d8f5",
   "metadata": {},
   "outputs": [],
   "source": [
    "v1"
   ]
  },
  {
   "cell_type": "code",
   "execution_count": null,
   "id": "e49de021",
   "metadata": {},
   "outputs": [],
   "source": [
    "sort!(v1) # Devuelve un vector ordenado de menor a mayor, y lo guarda en `v`"
   ]
  },
  {
   "cell_type": "code",
   "execution_count": null,
   "id": "28ac5d65",
   "metadata": {},
   "outputs": [],
   "source": [
    "v2"
   ]
  },
  {
   "cell_type": "code",
   "execution_count": null,
   "id": "78b740dd",
   "metadata": {},
   "outputs": [],
   "source": [
    "v1 == v2"
   ]
  },
  {
   "cell_type": "code",
   "execution_count": null,
   "id": "f3046429",
   "metadata": {},
   "outputs": [],
   "source": [
    "v1 === v2 # checa la identidad total de v1 y v2 incluyendo cosas de memoria"
   ]
  },
  {
   "cell_type": "markdown",
   "id": "8a5c1697",
   "metadata": {},
   "source": [
    "Las funciones, si uno no icluye ningún tipo de especificación, son genéricas, y se pueden usar en cualquier situación que tenga sentido."
   ]
  },
  {
   "cell_type": "code",
   "execution_count": null,
   "id": "0ea3468b",
   "metadata": {},
   "outputs": [],
   "source": [
    "f(mat)"
   ]
  },
  {
   "cell_type": "code",
   "execution_count": null,
   "id": "56a22cea",
   "metadata": {},
   "outputs": [],
   "source": [
    "mat"
   ]
  },
  {
   "cell_type": "code",
   "execution_count": null,
   "id": "806c3e20",
   "metadata": {},
   "outputs": [],
   "source": [
    "f.(mat) # Aplica f, elemento a elemento, a todos los elementos de `mat`"
   ]
  },
  {
   "cell_type": "code",
   "execution_count": null,
   "id": "11deffd3",
   "metadata": {},
   "outputs": [],
   "source": [
    "mat .^ 2"
   ]
  },
  {
   "cell_type": "code",
   "execution_count": null,
   "id": "c670b241",
   "metadata": {},
   "outputs": [],
   "source": [
    "map(f, mat)"
   ]
  },
  {
   "cell_type": "code",
   "execution_count": null,
   "id": "d0e3a9e8",
   "metadata": {},
   "outputs": [],
   "source": [
    "map(x-> !iszero(x), mat)"
   ]
  },
  {
   "cell_type": "markdown",
   "id": "9427454c",
   "metadata": {},
   "source": [
    "## Paquetes"
   ]
  },
  {
   "cell_type": "markdown",
   "id": "50b1d2de",
   "metadata": {},
   "source": [
    "Julia tiene una gran variedad de paqueterías públicas, que uno puede manejar de distintas maneras."
   ]
  },
  {
   "cell_type": "markdown",
   "id": "07d58bca",
   "metadata": {},
   "source": [
    "En primer lugar, existen las paqueterías que pertenecen a las librerías estándar (*standard library*). Éstas, en algún sentido, son parte de Julia pero no se cargan por default, sino que hay que cargarlas de manera explícita, en algún sentido para que no sea demasiado pesado el uso de Julia. Algunos ejemplos de paquetes que están en la librería estándar son: [Dates.jl](https://docs.julialang.org/en/v1/stdlib/Dates/), para trabajar con fechas, [DelimitedFiles.jl](https://docs.julialang.org/en/v1/stdlib/DelimitedFiles/) para poder leer y escribir archivos (a disco) que incluyen datos, por ejemplo, en formato `csv`, [`LinearAlgebra.jl`](https://docs.julialang.org/en/v1/stdlib/LinearAlgebra/) para hacer cosas relacionadas con álgebra lineal, [Pkg.jl](https://docs.julialang.org/en/v1/stdlib/Pkg/) para trabajar con paqueterías, etc."
   ]
  },
  {
   "cell_type": "markdown",
   "id": "597cef3a",
   "metadata": {},
   "source": [
    "Desde el Jupyter Notebook, para interaccionar con los paquetes lo más sencillo es usar `Pkg`"
   ]
  },
  {
   "cell_type": "code",
   "execution_count": null,
   "id": "3e526fc7",
   "metadata": {},
   "outputs": [],
   "source": [
    "using Pkg # `using` es para cargar una paquetería"
   ]
  },
  {
   "cell_type": "code",
   "execution_count": null,
   "id": "5fae4ed8",
   "metadata": {},
   "outputs": [],
   "source": [
    "#= \n",
    "Aquí \"activamos\" un directorio temporal para las paqueterías\".\n",
    "Esto es útil, por ejemplo, en casos en que estamos probando las cosas.\n",
    "=#\n",
    "Pkg.activate(temp=true)"
   ]
  },
  {
   "cell_type": "markdown",
   "id": "a209c26c",
   "metadata": {},
   "source": [
    "Así, podemos por ejemplo agregar una paquetería para usarla; no es necesario agregar las paqueterías estándar."
   ]
  },
  {
   "cell_type": "code",
   "execution_count": null,
   "id": "922c5f9f",
   "metadata": {},
   "outputs": [],
   "source": [
    "Pkg.add(\"Plots\")"
   ]
  },
  {
   "cell_type": "markdown",
   "id": "5645391a",
   "metadata": {},
   "source": [
    "`Plots.jl` es una librería amplia que permite hacer muchos tipos de gráficas con una interfaz similar, utilizando distintos programas para finalmente hacer las gráficas. No es la única librería, pero sí una suficientemente sencilla de usar."
   ]
  },
  {
   "cell_type": "markdown",
   "id": "f5bffbcb",
   "metadata": {},
   "source": [
    "Una vez agregada la paquetería, la podemos utilizar..."
   ]
  },
  {
   "cell_type": "code",
   "execution_count": null,
   "id": "33fde8b9",
   "metadata": {},
   "outputs": [],
   "source": [
    "using Plots"
   ]
  },
  {
   "cell_type": "code",
   "execution_count": null,
   "id": "afff85ca-31fc-4c31-b250-cf48f7108600",
   "metadata": {},
   "outputs": [],
   "source": [
    "π"
   ]
  },
  {
   "cell_type": "code",
   "execution_count": null,
   "id": "46efed5f",
   "metadata": {},
   "outputs": [],
   "source": [
    "plot(0.0:0.125:2π, x->sin(x), label=\"sin(x)\", lw=2)   # \"Crea\" la gráfica y pinta x vs sin(x)\n",
    "plot!(0.0:0.125:2π, cos, label=\"cos(x)\", lw=4)  # \"Modifica\" la gráfica anterior, pintando x vs cos(x)\n",
    "xlabel!(\"x\")\n",
    "ylabel!(\"y=f(x)\")"
   ]
  },
  {
   "cell_type": "markdown",
   "id": "3f2a296b",
   "metadata": {},
   "source": [
    "Ahora graficaremos datos..."
   ]
  },
  {
   "cell_type": "code",
   "execution_count": null,
   "id": "b17eb7ff",
   "metadata": {},
   "outputs": [],
   "source": [
    "rr = rand(1_000) # 1000 números al azar de 0 a 1 (distribuidos uniformemente)\n",
    "x = 2 .* rr .- 1\n",
    "rr = rand(1_000)\n",
    "y = 2 .* rr .- 1;"
   ]
  },
  {
   "cell_type": "code",
   "execution_count": null,
   "id": "9f637489",
   "metadata": {},
   "outputs": [],
   "source": [
    "function decide_color(x, y)\n",
    "    r2 = x^2+y^2\n",
    "    if r2 < 1\n",
    "        return :blue\n",
    "    else\n",
    "        return :red\n",
    "    end\n",
    "end"
   ]
  },
  {
   "cell_type": "code",
   "execution_count": null,
   "id": "0db4faa0",
   "metadata": {},
   "outputs": [],
   "source": [
    "scatter(x, y, xaxis=(\"x\"), yaxis=(\"y\"),\n",
    "    color=decide_color.(x, y), aspect_ratio=:equal, legend=:none)"
   ]
  },
  {
   "cell_type": "code",
   "execution_count": null,
   "id": "495089af",
   "metadata": {},
   "outputs": [],
   "source": [
    "scatter(x, y, color=decide_color.(x, y), \n",
    "    markerstrokecolor =decide_color.(x, y),\n",
    "    legend=:none, aspect_ratio=:equal,\n",
    "    ms=1.0)"
   ]
  },
  {
   "cell_type": "markdown",
   "id": "d9ba7759",
   "metadata": {},
   "source": [
    "# Tarea 1"
   ]
  },
  {
   "cell_type": "markdown",
   "id": "abc593fd",
   "metadata": {},
   "source": [
    "1. Triángulo de Pascal\n",
    "\n",
    "    a. Generen el triángulo de Pascal, hasta cierto orden `ord`, usando una matriz de enteros, en la que cada renglón representa un orden distinto. Hagan que la apariencia de este vector sea lo más simétrico posible.\n",
    "\n",
    "    b. Usen la matriz creada para generar *otra*, en que todos los números pares aparezcan como `false` y los impares como `true`, o alternativamente como 0 y 1, respectivamente. Las funciones `isodd` o `iseven` pueden serles útiles.\n",
    "    \n",
    "    c. Dibujen (con puntos) todos los valores impares del triángulo de Pascal para `ord=256`. Repitan el ejercicio para `ord=1024`."
   ]
  },
  {
   "cell_type": "markdown",
   "id": "b0f08a25",
   "metadata": {},
   "source": [
    "2. Sean $X_1$, $X_2$ y $X_3$ los vértices de un triángulo equilátero. Implementen el siguiente algoritmo usando como punto inicial un punto generado al azar, $Y_0$, dentro del triángulo.\n",
    "\n",
    "    a. Elijan al azar uno de los puntos $X_1$, $X_2$ y $X_3$, que llamaré $Y_0$. Guarden $Y_0$.\n",
    "    \n",
    "    b. Obtengan el punto medio de $Y_0$ y la $X_r$ que se consideró; el resultado lo etiquetaremos $Y_1$.\n",
    "    \n",
    "    c. Guarden el valor de $Y_1$.\n",
    "    \n",
    "    d. Repitan el algoritmo usando como nuevo valor $Y_0 \\leftarrow Y_1$, guardando cada uno de los iterados.\n",
    "    \n",
    "    e. Grafiquen todos los iterados $Y_n$ que guardaron, considerando muuuuchos puntos."
   ]
  },
  {
   "cell_type": "markdown",
   "id": "1fcd341b",
   "metadata": {},
   "source": [
    "3. Repitan el ejercicio anterior usando ahora, no el punto medio, sino 1/3 de la distancia entre el vértice elegido al azar y el iterado $Y_n$."
   ]
  },
  {
   "cell_type": "code",
   "execution_count": null,
   "id": "fb10af39",
   "metadata": {},
   "outputs": [],
   "source": []
  }
 ],
 "metadata": {
  "kernelspec": {
   "display_name": "Julia 1.10.4",
   "language": "julia",
   "name": "julia-1.10"
  },
  "language_info": {
   "file_extension": ".jl",
   "mimetype": "application/julia",
   "name": "julia",
   "version": "1.10.4"
  }
 },
 "nbformat": 4,
 "nbformat_minor": 5
}
