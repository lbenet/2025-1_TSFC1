{
 "cells": [
  {
   "cell_type": "markdown",
   "id": "5796b632-266d-4be4-b68e-eefcae900d03",
   "metadata": {},
   "source": [
    "# Introducción a Julia 2"
   ]
  },
  {
   "cell_type": "markdown",
   "id": "6e481589-dc15-433c-aa33-7cb3f3d73cb8",
   "metadata": {},
   "source": [
    "## Estructuras"
   ]
  },
  {
   "cell_type": "markdown",
   "id": "4e0be74f-7803-457d-8984-43cdbb2ec25e",
   "metadata": {},
   "source": [
    "Hemos visto que **todo**, realmente **TODO**, en Julia tiene asociado un tipo o estructura. Aquí veremos varias formas de crear nuevos tipos que se acomoden a lo que necesitamos, y algunos trucos para que la ejecución sea rápida. La importancia de los tipos radica, como vimos, en el hecho que la elección de qué método de una función se usa depende del tipo de sus argumentos.\n",
    "\n",
    "La convención a la hora de definir tipos es que estén escritos en estilo \"camello\", es decir, en que la primer letra de cada palabra empieza en mayúscula. Por ejemplo, tenemos `Float64`, `AbstractFloat`.\n",
    "\n",
    "Es importante decir que los tipos **no** pueden ser redefinidos o sobreescritos en una sesión de Julia \"normal\"; para hacerlo, hay que iniciar una nueva sesión o reiniciar el kernel del notebook (para el Jupyter notebook)."
   ]
  },
  {
   "cell_type": "markdown",
   "id": "d24b7ada-fbe7-41e0-8824-fe9e86ad9368",
   "metadata": {},
   "source": [
    "### Tipos inmutables y constructores internos\n",
    "\n",
    "Crearemos por ahora una estructura \"vacía\", simplemente para ilustrar cómo se definen las estructuras y cómo se definen los constructores.\n"
   ]
  },
  {
   "cell_type": "code",
   "execution_count": null,
   "id": "729db6bf-46a0-4113-aff2-c7b585602e6d",
   "metadata": {},
   "outputs": [],
   "source": [
    "# Definimos la estructura vacía \"MiTipo\"\n",
    "struct MiTipo\n",
    "end"
   ]
  },
  {
   "cell_type": "markdown",
   "id": "768696d7-5a00-4692-b954-4ae13742822b",
   "metadata": {},
   "source": [
    "Para crear un objeto del tipo `MiTipo` se requiere un *constructor*, que sencillamente es una función que devuelve un objeto del tipo especificado. Julia, por default, se encarga de tener dicha función una vez que la estructura ha sido definida."
   ]
  },
  {
   "cell_type": "code",
   "execution_count": null,
   "id": "bc7e9c98-fa21-4f77-b9ff-5d3f25d18ffa",
   "metadata": {},
   "outputs": [],
   "source": [
    "methods(MiTipo)"
   ]
  },
  {
   "cell_type": "markdown",
   "id": "b997b109-b982-4554-a72c-eb028ca1f5f8",
   "metadata": {},
   "source": [
    "La estructura `MiTipo` que acabamos de definir **no** contiene ningún tipo de datos, por lo que se llama \"singleton\". Este tipo de estructuras pueden ser útiles para cuestiones de *dispatch*, esto es, de distinguir el método que se usa. (Esto se aclarará a su debido tiempo.)"
   ]
  },
  {
   "cell_type": "code",
   "execution_count": null,
   "id": "08b4cc86-6228-4a6a-be84-230f7a889c78",
   "metadata": {},
   "outputs": [],
   "source": [
    "mt = MiTipo()"
   ]
  },
  {
   "cell_type": "code",
   "execution_count": null,
   "id": "1f47da5a-3c0b-4fc1-b032-38c825789811",
   "metadata": {},
   "outputs": [],
   "source": [
    "typeof(mt)"
   ]
  },
  {
   "cell_type": "code",
   "execution_count": null,
   "id": "62c5e257-6dfe-47d8-99d5-54839d403b23",
   "metadata": {},
   "outputs": [],
   "source": [
    "mt isa MiTipo # equivale a `isa(mt, MiTipo)`"
   ]
  },
  {
   "cell_type": "markdown",
   "id": "b6ffd690-c130-4133-8065-a6909ff6aa4b",
   "metadata": {},
   "source": [
    "En general, cuando definimos un tipo nuevo es para que contenga cierto tipo de datos, que por una u otra razón tienen un significado importante para el problema que lo motiva.\n",
    "\n",
    "La siguiente estructura define a `Partic1d`, que podría representar la posición y velocidad \n",
    "de una partrícula en 1 dimensión.\n"
   ]
  },
  {
   "cell_type": "code",
   "execution_count": null,
   "id": "a77f241f-37f9-4d13-8b2a-8b073c69c57a",
   "metadata": {},
   "outputs": [],
   "source": [
    "struct Partic1d\n",
    "    x :: Float64\n",
    "    v :: Float64\n",
    "end"
   ]
  },
  {
   "cell_type": "markdown",
   "id": "444bbd50-7e54-4db2-8031-b7b2dd7d3da0",
   "metadata": {},
   "source": [
    "Por cuestiones de eficiencia es conveniente que los tipos de las variables *internas* sean concretos; en este caso hablamos de `x` y `v`. Si se requiere aún más versatilidad respecto a los tipos internos, se puede definir *tipos parámetricos*, como veremos más adelante.\n",
    "\n",
    "Es importante enfatizar que las distintas componentes internas de un tipo pueden tener distintos tipos asociados, por ejemplo, `Float64` y `String`.\n",
    "\n",
    "Para acceder a la información de los campos internos de un tipo, usamos la función `fieldnames`:\n"
   ]
  },
  {
   "cell_type": "code",
   "execution_count": null,
   "id": "9e6daf75-3726-4b89-b637-285bf89d17d6",
   "metadata": {},
   "outputs": [],
   "source": [
    "fieldnames(Partic1d)"
   ]
  },
  {
   "cell_type": "markdown",
   "id": "f2217898-216f-4bad-a887-4bdf97b21c65",
   "metadata": {},
   "source": [
    "El método que por default crea a un objeto tipo `Partic1d` requiere que especifiquemos *en el mismo orden* todos los *campos* que lo componen."
   ]
  },
  {
   "cell_type": "code",
   "execution_count": null,
   "id": "94107b7f-fec0-4bda-af86-9590402387a0",
   "metadata": {},
   "outputs": [],
   "source": [
    "methods(Partic1d)"
   ]
  },
  {
   "cell_type": "code",
   "execution_count": null,
   "id": "406dd775-2d55-4862-bc53-55ac22b1fe8e",
   "metadata": {},
   "outputs": [],
   "source": [
    "p1 = Partic1d(1.0, -2.4)"
   ]
  },
  {
   "cell_type": "code",
   "execution_count": null,
   "id": "89f4303b-e43f-46c3-a16b-d30c896714b4",
   "metadata": {},
   "outputs": [],
   "source": [
    "p1.x # accede al *valor* del campo `x`"
   ]
  },
  {
   "cell_type": "code",
   "execution_count": null,
   "id": "6a191a24-6157-4a73-a093-1a38ec68bdc7",
   "metadata": {},
   "outputs": [],
   "source": [
    "getfield(p1, :v) # Otra manera de obtener el campo `:v` de p1"
   ]
  },
  {
   "cell_type": "code",
   "execution_count": null,
   "id": "181eb388-5a01-4655-ba5d-2ba3957215a9",
   "metadata": {},
   "outputs": [],
   "source": [
    "Partic1d(1, pi)"
   ]
  },
  {
   "cell_type": "markdown",
   "id": "5ad5311b-0fb0-41dd-a98b-b6295ab71a3d",
   "metadata": {},
   "source": [
    "El tipo de estructura que acabamos de crear es *inmutable*, lo que significa que los campos individuales (cuando son *concretos*), no se pueden cambiar. Esto lo que significa es que si tratamos de cambiar el campo interno de un tipo inmutable, Julia arrojará un error.\n"
   ]
  },
  {
   "cell_type": "code",
   "execution_count": null,
   "id": "0f145f7d-3e1d-458e-8c39-f1e23ef63720",
   "metadata": {},
   "outputs": [],
   "source": [
    "isimmutable(p1)"
   ]
  },
  {
   "cell_type": "code",
   "execution_count": null,
   "id": "b85a40bc-56c5-4723-b857-e84052f48b1c",
   "metadata": {},
   "outputs": [],
   "source": [
    "p1.x = 2.0"
   ]
  },
  {
   "cell_type": "markdown",
   "id": "d8753e6f-f530-4e39-8859-e28fdd302829",
   "metadata": {},
   "source": [
    "La propiedad de inmutabilidad no es recursiva; esto es, si una componente de un tipo consiste de algún campo que es mutable (por ejemplo, `Array{T,N}`), entonces las componentes individuales de ese campo pueden cambiar."
   ]
  },
  {
   "cell_type": "code",
   "execution_count": null,
   "id": "b0b6bd2d-f356-464e-aec5-ace2ccdd442b",
   "metadata": {},
   "outputs": [],
   "source": [
    "struct Partic2d\n",
    "    pos :: Array{Float64,1}\n",
    "    vel :: Vector{Float64}\n",
    "    #La siguiente función se llama constructor interno\n",
    "    function Partic2d(x::Array{Float64,1}, v::Array{Float64,1})\n",
    "        @assert length(x) == length(v) == 2\n",
    "        return new(x, v)\n",
    "    end\n",
    "end"
   ]
  },
  {
   "cell_type": "markdown",
   "id": "58b354c4-f4ec-4c55-98f3-8c59b5893536",
   "metadata": {},
   "source": [
    "La función que aparece en el interior redefine el constructor de default, y se llama *constructor interno*. Hay que enfatizar que el comando `new` *sólo* se utiliza en el caso de constructores internos; en algún sentido estamos devolviendo un objeto tipo `Partric2d`, que aún no está definido."
   ]
  },
  {
   "cell_type": "code",
   "execution_count": null,
   "id": "c8c98e47-3dd5-427b-81c8-a2adbe242bf6",
   "metadata": {},
   "outputs": [],
   "source": [
    "p2 = Partic2d([1.0, 2.5], [1.0, 3.0])"
   ]
  },
  {
   "cell_type": "code",
   "execution_count": null,
   "id": "2fdee033-5714-49ac-801a-f430c66ce8aa",
   "metadata": {},
   "outputs": [],
   "source": [
    "fieldnames(Partic2d)"
   ]
  },
  {
   "cell_type": "markdown",
   "id": "e16aa898-3613-428a-b2cc-c3e131240675",
   "metadata": {},
   "source": [
    "Como dijimos antes, no se puede cambiar *el objeto en si* (por ser inmutable), pero sí sus componentes."
   ]
  },
  {
   "cell_type": "code",
   "execution_count": null,
   "id": "4b0df3cb-2091-4547-8e6e-9d77955b854b",
   "metadata": {},
   "outputs": [],
   "source": [
    "p2.pos = [2, 1]  # Arroja un error"
   ]
  },
  {
   "cell_type": "code",
   "execution_count": null,
   "id": "b56d4b93-6ae2-46d3-92da-87ad41f9656e",
   "metadata": {},
   "outputs": [],
   "source": [
    "p2.pos[1] = 6.0  # cambia la primer componente del campo `:x`"
   ]
  },
  {
   "cell_type": "code",
   "execution_count": null,
   "id": "5cc09113-0cbc-4a4c-9308-aa7d346092ab",
   "metadata": {},
   "outputs": [],
   "source": [
    "p2.pos .= [2, 1] # Cambiamos componente a componente (con broadcasting) todo el campo `:x`"
   ]
  },
  {
   "cell_type": "code",
   "execution_count": null,
   "id": "11d3d8f7-f867-4cb7-8a03-5340fb06cbe7",
   "metadata": {},
   "outputs": [],
   "source": [
    "p2"
   ]
  },
  {
   "cell_type": "markdown",
   "id": "60770dac-05dd-489a-bced-130db938ae43",
   "metadata": {},
   "source": [
    "### Tipos mutables\n",
    "\n",
    "Todo lo dicho anteriormente se puede extender para definir tipos mutables. La única diferencia es a la hora de definirlos: debemos usar `mutable struct`."
   ]
  },
  {
   "cell_type": "code",
   "execution_count": null,
   "id": "5eb9313a-7dfe-434e-a6c8-0ff5726de706",
   "metadata": {},
   "outputs": [],
   "source": [
    "mutable struct MPartic2d\n",
    "    x :: Array{Float64,1}\n",
    "    v :: Array{Float64,1}\n",
    "    function MPartic2d(x :: Array{Float64,1}, v :: Array{Float64,1})\n",
    "        @assert length(x) == length(v) == 2\n",
    "        return new(x, v)\n",
    "    end\n",
    "end"
   ]
  },
  {
   "cell_type": "code",
   "execution_count": null,
   "id": "042b2e3d-afd1-40d7-8b5c-1dd5816337b3",
   "metadata": {},
   "outputs": [],
   "source": [
    "mp2 = MPartic2d([1.0, 2.5], [1.0, 3.0])"
   ]
  },
  {
   "cell_type": "code",
   "execution_count": null,
   "id": "15f0be2c-851d-402e-9d16-d7ef878d1b8d",
   "metadata": {},
   "outputs": [],
   "source": [
    "mp2.x = [2, 1]  # Funciona, ya que el tipo es mutable!"
   ]
  },
  {
   "cell_type": "code",
   "execution_count": null,
   "id": "afc20451-fbe3-42df-aff5-4ff31313ca99",
   "metadata": {},
   "outputs": [],
   "source": [
    "mp2"
   ]
  },
  {
   "cell_type": "markdown",
   "id": "e20f674d-d75b-427d-b525-5962bcb62faa",
   "metadata": {},
   "source": [
    "### Estructuras paramétricas\n",
    "\n",
    "En ocasiones uno quiere definir estructuras que operen con distinto tipo de entradas. Un ejemplo son los racionales: tenemos `Rational{Int64}` y *también* `Rational{BigInt}`; otro ejemplo son los complejos: `Complex{Int64}` o `ComplexF64`, que es un alias de `Complex{Float64}`.\n",
    "\n",
    "Anteriormente, definimos `Partic2d` con campos que son vectores `Array{Float64,1}`, por lo que usar otro tipo de vectores arroja un error."
   ]
  },
  {
   "cell_type": "code",
   "execution_count": null,
   "id": "495a641a-d179-4fd8-85fc-594fd9343d94",
   "metadata": {},
   "outputs": [],
   "source": [
    "Partic2d([1, 2], [1, 3])"
   ]
  },
  {
   "cell_type": "markdown",
   "id": "123c9f26-c134-4592-8729-eed231b64e78",
   "metadata": {},
   "source": [
    "En principio uno *podría* usar en la definición de los campos que componen al tipo, tipos abstractos, como `Real`. Sin embargo, dado que el compilador *no* conoce la estructura en memoria de tipos abstractos de antemano, el código que se ejecutará eventualmente será ineficiente. Un ejemplo de código ineficiente, entonces, sería:\n",
    "```julia\n",
    "#Estructura MUY ineficiente\n",
    "struct Partic3dIneficiente\n",
    "    x :: Array{Real,1}\n",
    "    v :: Array{Real,1}\n",
    "end\n",
    "```\n",
    "dado que `Real` es un tipo abstracto.\n"
   ]
  },
  {
   "cell_type": "markdown",
   "id": "7819c1d1-113f-41d5-839a-5a0548d8e552",
   "metadata": {},
   "source": [
    "La alternativa es definir estructuras *paramétricas*, donde precisamente el parámetro es un tipo concreto (sin especificar) que es subtipo de algún tipo abstracto."
   ]
  },
  {
   "cell_type": "code",
   "execution_count": null,
   "id": "038c17cf-78a9-4f35-bc43-bf8c0bb2bff9",
   "metadata": {},
   "outputs": [],
   "source": [
    "struct Partic3d{T<:Real}\n",
    "    x :: Array{T,1}\n",
    "    v :: Vector{T}\n",
    "    function Partic3d(x :: Array{T,1}, v :: Array{T,1}) where {T<:Real}\n",
    "        @assert length(x) == length(v) == 3\n",
    "        return new{T}(x, v)\n",
    "    end\n",
    "end"
   ]
  },
  {
   "cell_type": "markdown",
   "id": "84218610-ba82-4dfb-9fc1-cb4447080bab",
   "metadata": {},
   "source": [
    "En cierto sentido, en la definición anterior de `Partic3d{T}` la `T` adquiere un tipo concreto, que es subtipo de `Real`, y que es el que se utiliza en los campos donde se requiere especificar dentro del constructor."
   ]
  },
  {
   "cell_type": "code",
   "execution_count": null,
   "id": "7c734658-40e4-4e43-9920-59c0d0164821",
   "metadata": {},
   "outputs": [],
   "source": [
    "Partic3d([1//1,2,3], [2,3,4//2])  # regresa un Partic3d{Int}"
   ]
  },
  {
   "cell_type": "code",
   "execution_count": null,
   "id": "352c96ae-f361-43a1-b738-50bbe3936e47",
   "metadata": {},
   "outputs": [],
   "source": [
    "Partic3d([1.5,2,3], [2.5,3,4]) # regresa un Partic3d{Float64}"
   ]
  },
  {
   "cell_type": "markdown",
   "id": "7f102159-a3b4-4053-bdba-a5eb979de854",
   "metadata": {},
   "source": [
    "Los tipos están organizados en una estructura de árbol; en todos los casos anteriores, la definición los ha puesto directamente abajo de `Any`."
   ]
  },
  {
   "cell_type": "code",
   "execution_count": null,
   "id": "c75dbf95-1c91-4bb9-a8f3-38d3ef4ef925",
   "metadata": {},
   "outputs": [],
   "source": [
    "supertype(Partic3d)"
   ]
  },
  {
   "cell_type": "code",
   "execution_count": null,
   "id": "7930f483-8456-44bf-93b8-ea1d9c7c9263",
   "metadata": {},
   "outputs": [],
   "source": [
    "supertype(Float64)"
   ]
  },
  {
   "cell_type": "code",
   "execution_count": null,
   "id": "99bc4f94-7698-4bf1-81d4-01aef021df94",
   "metadata": {},
   "outputs": [],
   "source": [
    "supertype(AbstractFloat)"
   ]
  },
  {
   "cell_type": "code",
   "execution_count": null,
   "id": "5736c7a1-5c4e-4d78-bae8-7dd4d6fcbda7",
   "metadata": {},
   "outputs": [],
   "source": [
    "subtypes(Real)"
   ]
  },
  {
   "cell_type": "markdown",
   "id": "c4dd7b28-ab0e-4de6-8277-ade55e92320b",
   "metadata": {},
   "source": [
    "Uno puede de hecho insertar en cualquier punto del árbol de tipos los tipos definidos. Esto es útil porque permite obtener cierta clase de sobrecarga de operadores, y por lo mismo, la posibilidad de aplicar ciertas funciones a la estructura que hemos creado.\n",
    "\n",
    "El siguiente ejemplo define la estructura paramétrica `MiVector2d`, y la pone como subtipo de `AbstractArray`; noten que `AbstractArray` *también* es una estructura paramétrica."
   ]
  },
  {
   "cell_type": "code",
   "execution_count": null,
   "id": "19ac0b16-0152-4041-a90f-67eb18f6b003",
   "metadata": {},
   "outputs": [],
   "source": [
    "struct MiVector2d{T<:Real} <: AbstractArray{T,1}\n",
    "    x :: T\n",
    "    y :: T\n",
    "end"
   ]
  },
  {
   "cell_type": "code",
   "execution_count": null,
   "id": "fb2f3eb3-8d44-412c-90fd-6cb2a4404c4e",
   "metadata": {},
   "outputs": [],
   "source": [
    "x = MiVector2d(1, 2) # da un error !?"
   ]
  },
  {
   "cell_type": "markdown",
   "id": "ae5420b9-7474-46f1-8e15-0a1c90c28093",
   "metadata": {},
   "source": [
    "El error indica *algo* no relacionado con lo que hemos hecho, sino que tiene que ver con la visualización de `x`. (El mensaje dice que el problema está con `size`.) Uno puede notar que `x.x` y `x.y` dan los resultado esperados; de hecho, `x` ha sido *definido*, simplemente, no lo podemos visualizar."
   ]
  },
  {
   "cell_type": "code",
   "execution_count": null,
   "id": "7f38fd30-0ae1-4c81-9198-da5c39141063",
   "metadata": {},
   "outputs": [],
   "source": [
    "isdefined(Main, :x)"
   ]
  },
  {
   "cell_type": "code",
   "execution_count": null,
   "id": "820d9069-fc81-41f8-84db-7f7afbc31d67",
   "metadata": {},
   "outputs": [],
   "source": [
    "x.x, x.y"
   ]
  },
  {
   "cell_type": "markdown",
   "id": "9d136359-adf9-40b5-9a74-7d70eb5b7546",
   "metadata": {},
   "source": [
    "Para hacernos la vida más sencilla a la hora de visualizar `MiVector2d`, sobrecargaremos `size` y `getindex`."
   ]
  },
  {
   "cell_type": "code",
   "execution_count": null,
   "id": "b447c22b-5841-4709-b05d-dcf804ef3aa2",
   "metadata": {},
   "outputs": [],
   "source": [
    "size([1,2,3,5])"
   ]
  },
  {
   "cell_type": "code",
   "execution_count": null,
   "id": "9a0af203-e490-4e7b-a456-d78bc4912a95",
   "metadata": {},
   "outputs": [],
   "source": [
    "@which size([1,2])"
   ]
  },
  {
   "cell_type": "code",
   "execution_count": null,
   "id": "88b7e29b-88d0-4b25-bd2b-847dcdfd899a",
   "metadata": {},
   "outputs": [],
   "source": [
    "import Base: size\n",
    "size(::MiVector2d{T}) where {T} = (2,) # dos componentes en la primer dimensión\n",
    "# size(::MiVector2d) = (2,) # dos componentes en la primer dimensión"
   ]
  },
  {
   "cell_type": "code",
   "execution_count": null,
   "id": "d956cff4-9390-4e21-b215-78d03e3a727d",
   "metadata": {},
   "outputs": [],
   "source": [
    "x"
   ]
  },
  {
   "cell_type": "code",
   "execution_count": null,
   "id": "b1ab6c87-fce8-4ac3-a10c-9c682af2c0e8",
   "metadata": {},
   "outputs": [],
   "source": [
    "function Base.getindex(v::MiVector2d, i::Int)\n",
    "    if i == 1\n",
    "        return v.x\n",
    "    elseif i == 2\n",
    "        return v.y\n",
    "    else\n",
    "        throw(AssertError)  # Esto \"dispara\" un error tipo `AssertError`\n",
    "    end\n",
    "end"
   ]
  },
  {
   "cell_type": "code",
   "execution_count": null,
   "id": "691ee4a9-5069-41a9-8e57-8aa7424d6734",
   "metadata": {},
   "outputs": [],
   "source": [
    "x"
   ]
  },
  {
   "cell_type": "code",
   "execution_count": null,
   "id": "d6a0e644-cc4f-431a-8a28-d4db7d78bc70",
   "metadata": {},
   "outputs": [],
   "source": [
    "y = MiVector2d(1.2, 2.1)"
   ]
  },
  {
   "cell_type": "markdown",
   "id": "bbe95c38-a4bb-4340-8129-8f75bce8614b",
   "metadata": {},
   "source": [
    "A pesar de que **no** hemos sobrecargado la suma (`:+`), ésta funciona gracias a la estructura de tipo que hemos impuesto a `MiVector2d{T} <: AbstractArray{T,1}`."
   ]
  },
  {
   "cell_type": "code",
   "execution_count": null,
   "id": "b8a360a7-855e-41c6-9a00-d3dcaf2cb4d3",
   "metadata": {},
   "outputs": [],
   "source": [
    "x + y"
   ]
  },
  {
   "cell_type": "markdown",
   "id": "5c9977f7-9d49-4dee-8253-aff36339dbc5",
   "metadata": {},
   "source": [
    "Sin embargo, hay que notar que el resultado es un `Array{Float64,1}` y no un `MiVector2d{Float64}`. Para logra que el resultado sea del tipo que queremos, debemos sobrecargar la función `:+`."
   ]
  },
  {
   "cell_type": "code",
   "execution_count": null,
   "id": "ae423583-c86c-4e58-93d1-e6c78b9b9d31",
   "metadata": {},
   "outputs": [],
   "source": [
    "((x .+ y)...,)"
   ]
  },
  {
   "cell_type": "code",
   "execution_count": null,
   "id": "e45b42f7-65e2-4df9-9231-dde8d0121e40",
   "metadata": {},
   "outputs": [],
   "source": [
    "Base.:+(x::MiVector2d, y::MiVector2d) = MiVector2d((x .+ y)...)"
   ]
  },
  {
   "cell_type": "code",
   "execution_count": null,
   "id": "17751a19-4418-4a7b-8510-b3b627fa2cc7",
   "metadata": {},
   "outputs": [],
   "source": [
    "x + y"
   ]
  },
  {
   "cell_type": "markdown",
   "id": "24f3d39c-b4bb-442b-acb3-fc3751fbbc60",
   "metadata": {},
   "source": [
    "Este ejemplo *no* es uno particularmente interesante, pero muestra que Julia permite adecuar las cosas a lo que requerimos, y *extender* las funciones de Julia para que la interacción sea sencilla y cómoda."
   ]
  },
  {
   "cell_type": "markdown",
   "id": "2a447644-9623-4192-a268-b48226a94e57",
   "metadata": {},
   "source": [
    "Para que `MiVector2d` funcione con entradas de vector, debo definir un constructor apropiado:"
   ]
  },
  {
   "cell_type": "code",
   "execution_count": null,
   "id": "ec216739-2f81-408e-96c0-dd0c030c80fc",
   "metadata": {},
   "outputs": [],
   "source": [
    "MiVector2d(v::Vector{<:Real}) = MiVector2d(v...,)"
   ]
  },
  {
   "cell_type": "code",
   "execution_count": null,
   "id": "ed40104e-3dbc-4c74-98f8-43c959c8b69d",
   "metadata": {},
   "outputs": [],
   "source": [
    "MiVector2d([1,2])"
   ]
  },
  {
   "cell_type": "markdown",
   "id": "6561387b-dc02-4746-bef8-9a79a4127b04",
   "metadata": {},
   "source": [
    "## Metaprogramming"
   ]
  },
  {
   "cell_type": "markdown",
   "id": "920acf1a-fb7c-4b8a-bf59-54e3717295b7",
   "metadata": {},
   "source": [
    "### Expresiones\n",
    "\n",
    "Julia, igual que Lisp, representa al código (por ejemplo, en el REPL) como una estructura de datos en el *propio lenguaje*. Entonces, es posible escribir y modificar código de manera programática. La posibilidad de escribir código que genere y modifique código es lo que se entiende por \"Metaprogramming\".\n",
    "\n",
    "Aquí ilustraremos algunos conceptos, siguiendo el [manual](https://docs.julialang.org/en/v1/manual/metaprogramming), dejando varios temas sin cubrir."
   ]
  },
  {
   "cell_type": "code",
   "execution_count": null,
   "id": "14e49a5e-3e47-4c80-916b-56f2c7f03dbc",
   "metadata": {},
   "outputs": [],
   "source": [
    "1+1"
   ]
  },
  {
   "cell_type": "code",
   "execution_count": null,
   "id": "188afd56-ad69-4c90-9fc0-0dbe7ef114a0",
   "metadata": {},
   "outputs": [],
   "source": [
    "# Cualquier línea de código inicialmente es una cadena:\n",
    "prog = \"1 + 1\""
   ]
  },
  {
   "cell_type": "code",
   "execution_count": null,
   "id": "ec643385-1f75-4988-a5c1-5a8bfd90d845",
   "metadata": {},
   "outputs": [],
   "source": [
    "# El siguiente paso es convertir la cadena en una expresión:\n",
    "ex1 = Meta.parse(prog)"
   ]
  },
  {
   "cell_type": "code",
   "execution_count": null,
   "id": "73516205-2d97-4a1b-a27e-b983dc215110",
   "metadata": {},
   "outputs": [],
   "source": [
    "typeof(ex1)"
   ]
  },
  {
   "cell_type": "code",
   "execution_count": null,
   "id": "c1f36d7e-b1a5-480a-89b6-df1862e2b300",
   "metadata": {},
   "outputs": [],
   "source": [
    "propertynames(ex1)"
   ]
  },
  {
   "cell_type": "code",
   "execution_count": null,
   "id": "7e8f4565-5110-4e3c-8b67-7389f7ae82b0",
   "metadata": {},
   "outputs": [],
   "source": [
    "fieldnames(Expr)"
   ]
  },
  {
   "cell_type": "markdown",
   "id": "2f02d1ba-2ba2-4ee4-a23a-9ec71e7f9d68",
   "metadata": {},
   "source": [
    "Claramente, un objeto tipo Expr tiene dos campos. Primero, tenemos `head`, que es un `Symbol` que define el tipo de expresión. En este caso se trata de un `:call`."
   ]
  },
  {
   "cell_type": "code",
   "execution_count": null,
   "id": "f544a80f-cbf8-4330-b0d0-9544ef636cd0",
   "metadata": {},
   "outputs": [],
   "source": [
    "ex1.head"
   ]
  },
  {
   "cell_type": "markdown",
   "id": "2faa7bf6-2455-4cc1-b12f-fa0525fab53a",
   "metadata": {},
   "source": [
    "Por otro lado tenemos `args`, que es un `Vector{Any}` y contiene los argumentos de la expresión"
   ]
  },
  {
   "cell_type": "code",
   "execution_count": null,
   "id": "72ce64b0-f62b-4590-9e64-2e77a75f7b4a",
   "metadata": {},
   "outputs": [],
   "source": [
    "typeof(ex1.args)"
   ]
  },
  {
   "cell_type": "code",
   "execution_count": null,
   "id": "bcfb0f53-c684-48b5-81f8-33dd80dac40c",
   "metadata": {},
   "outputs": [],
   "source": [
    "ex1.args"
   ]
  },
  {
   "cell_type": "markdown",
   "id": "af07b6e0-125b-4ea1-9212-f55736dde900",
   "metadata": {},
   "source": [
    "Las expresiones también pueden ser escritas directamente a partir del constructor de un objeto tipo `Expr`:"
   ]
  },
  {
   "cell_type": "code",
   "execution_count": null,
   "id": "98f5defb-ab7f-4768-a2bc-6ce7bb446a1b",
   "metadata": {},
   "outputs": [],
   "source": [
    "ex2 = Expr(:call, :+, 1, 1) # equivalente a Expr(:call, [:+, 1, 1])"
   ]
  },
  {
   "cell_type": "code",
   "execution_count": null,
   "id": "07994783-6381-4216-a7ee-34507634b537",
   "metadata": {},
   "outputs": [],
   "source": [
    "ex1 == ex2"
   ]
  },
  {
   "cell_type": "markdown",
   "id": "8b71e055-5165-46d3-9c99-577bbfaa9bde",
   "metadata": {},
   "source": [
    "El punto importante es que el código en Julia está representado internamente por expresiones escritas en Julia y que son accesibles desde Julia.\n",
    "\n",
    "La función `dump()`` da información anotada de la expresión:"
   ]
  },
  {
   "cell_type": "code",
   "execution_count": null,
   "id": "f71e1007-16e2-4544-a979-4dbdee766f2b",
   "metadata": {},
   "outputs": [],
   "source": [
    "dump(ex1)"
   ]
  },
  {
   "cell_type": "code",
   "execution_count": null,
   "id": "8dba87e5-7745-49f2-878f-4f63f5dc29c1",
   "metadata": {},
   "outputs": [],
   "source": [
    "+(1,1)"
   ]
  },
  {
   "cell_type": "markdown",
   "id": "2d94271d-64b0-4aeb-8cab-1427593b89a5",
   "metadata": {},
   "source": [
    "Expresiones más complejas se construyen de forma similar:"
   ]
  },
  {
   "cell_type": "code",
   "execution_count": null,
   "id": "91dc1abd-d2a9-4911-8a2c-d6784946362e",
   "metadata": {},
   "outputs": [],
   "source": [
    "ex3 = Meta.parse(\"(4 + sin(1.0)) / 2\")"
   ]
  },
  {
   "cell_type": "markdown",
   "id": "4622f0d7-4bda-4893-bb5f-5a9357cfda0f",
   "metadata": {},
   "source": [
    "Otra manera de visualizar a la expresión es con `Meta.show_sexpr`"
   ]
  },
  {
   "cell_type": "code",
   "execution_count": null,
   "id": "f54df39f-f9c9-43e8-a355-d14394f42302",
   "metadata": {},
   "outputs": [],
   "source": [
    "Meta.show_sexpr(ex3)"
   ]
  },
  {
   "cell_type": "markdown",
   "id": "d231fefa-e109-4519-bb72-8fbd67d3db50",
   "metadata": {},
   "source": [
    "Uno de los usos de `:` es crear símbolos, o también se puede usar `Symbol()`"
   ]
  },
  {
   "cell_type": "code",
   "execution_count": null,
   "id": "2abe2734-58e0-4106-a68a-3cf31c9c6773",
   "metadata": {},
   "outputs": [],
   "source": [
    ":foo == Symbol(\"foo\")"
   ]
  },
  {
   "cell_type": "markdown",
   "id": "a3c883a1-1470-4692-aec3-5af5a182dafa",
   "metadata": {},
   "source": [
    "`Symbol` permite concatenar distintas partes, que esencialmente se toman como\n",
    "cadenas"
   ]
  },
  {
   "cell_type": "code",
   "execution_count": null,
   "id": "feb2ebb0-305f-48b1-a6a0-31d517d85d33",
   "metadata": {},
   "outputs": [],
   "source": [
    "Symbol(:var,'_',\"sym\",3)"
   ]
  },
  {
   "cell_type": "markdown",
   "id": "9349d986-7fe4-4a18-9e13-221d876d4320",
   "metadata": {},
   "source": [
    "Otro uso de `:` es crear expresiones sin usar el constructor `Expr`, en lo que\n",
    "se llama *citar* (en inglés, *quoting*)"
   ]
  },
  {
   "cell_type": "code",
   "execution_count": null,
   "id": "d300b0a0-a625-4645-a5ea-a8f6b8ac264d",
   "metadata": {},
   "outputs": [],
   "source": [
    "ex4 = :(a + b*c + 1)"
   ]
  },
  {
   "cell_type": "code",
   "execution_count": null,
   "id": "7878d0df-723b-4024-84d8-176801e7cb81",
   "metadata": {},
   "outputs": [],
   "source": [
    "dump(ex4)"
   ]
  },
  {
   "cell_type": "markdown",
   "id": "0812d5d2-93bb-46e2-9071-c483bd917f50",
   "metadata": {},
   "source": [
    "No sólo es el hecho de que podamos escribir programáticamente las expresiones, sino que\n",
    "también podemos modificarlas. Como ejemplo, tomaremos `ex4`, y la transformaremos\n",
    "de ser `:(a + b * c + 1)` a ser `:(a + b * c + 2.1)`. Esto, simplemente lo\n",
    "conseguimos cambiando el cuarto elemento del vector `ex4.args`:"
   ]
  },
  {
   "cell_type": "code",
   "execution_count": null,
   "id": "706c49e5-007f-4cb8-90b7-44cc34a7ddae",
   "metadata": {},
   "outputs": [],
   "source": [
    "ex4.args[4] = 2.1"
   ]
  },
  {
   "cell_type": "code",
   "execution_count": null,
   "id": "05f29378-fb68-4b9e-86cd-1ae4f972a555",
   "metadata": {},
   "outputs": [],
   "source": [
    "ex4"
   ]
  },
  {
   "cell_type": "markdown",
   "id": "bfd24e49-6077-44e6-9a8a-a14df0485086",
   "metadata": {},
   "source": [
    "Otra manera de construir expresiones más complejas es usando el bloque `quote ... end`"
   ]
  },
  {
   "cell_type": "code",
   "execution_count": null,
   "id": "a1836f2f-a772-4049-80a0-49ce5be3ed44",
   "metadata": {},
   "outputs": [],
   "source": [
    "ex = quote\n",
    "    xx = 1\n",
    "    yy = 2\n",
    "    xx + yy\n",
    "end"
   ]
  },
  {
   "cell_type": "markdown",
   "id": "b3d3fe1a-a4a1-4501-a78d-9cb5f2fde1bf",
   "metadata": {},
   "source": [
    "Para evaluar una expresión, es decir, considerar a la cadena de texto y *correrla*, se utiliza la función `eval`. En la expresión anterior, las variables `xx` y `yy` no han sido evaluadas, y por eso se obtienen `UndefVarError`."
   ]
  },
  {
   "cell_type": "code",
   "execution_count": null,
   "id": "c1059d99-b251-4351-98ec-86aca0d42ba4",
   "metadata": {},
   "outputs": [],
   "source": [
    "xx"
   ]
  },
  {
   "cell_type": "code",
   "execution_count": null,
   "id": "97ba7253-cb01-41f6-bd6f-14e7416af7eb",
   "metadata": {},
   "outputs": [],
   "source": [
    "eval(ex)"
   ]
  },
  {
   "cell_type": "code",
   "execution_count": null,
   "id": "16623957-4702-4688-bf65-4e2d921e2332",
   "metadata": {},
   "outputs": [],
   "source": [
    "xx, yy"
   ]
  },
  {
   "cell_type": "markdown",
   "id": "21e20c00-42c5-4255-a83c-1465ce812977",
   "metadata": {},
   "source": [
    "Las expresiones pueden involucrar variables cuyo valor ha sido asignado; evaluar dichas\n",
    "expresiones utiliza el valor de estas variables:"
   ]
  },
  {
   "cell_type": "code",
   "execution_count": null,
   "id": "45398a51-a5e5-4e04-b477-d16daa7b78e5",
   "metadata": {},
   "outputs": [],
   "source": [
    "z = 4\n",
    "eval( :(2*xx + z) )"
   ]
  },
  {
   "cell_type": "markdown",
   "id": "b339f74f-fc1d-4264-9db9-ae556ffdd7cf",
   "metadata": {},
   "source": [
    "Incluso, uno puede *sustituir* el valor de esas variables, usando `$`, de la misma\n",
    "manera que uno *interpola* valores en cadenas"
   ]
  },
  {
   "cell_type": "code",
   "execution_count": null,
   "id": "f828d28b-83d9-4322-b530-09189c5dd4eb",
   "metadata": {},
   "outputs": [],
   "source": [
    "dump( :(2*xx + $z) )"
   ]
  },
  {
   "cell_type": "markdown",
   "id": "d4d459aa-6853-42bc-8739-1638a9b45d48",
   "metadata": {},
   "source": [
    "### Generación de código\n",
    "\n",
    "Un ejemplo un poco más interesante, es el implementar la evaluación de los polinomios\n",
    "de Wilkinson:\n",
    "$$\n",
    "W_n(x) = \\prod_{i=1}^{n} (x-i) = (x-1)(x-2)\\dots(x-n).\n",
    "$$"
   ]
  },
  {
   "cell_type": "code",
   "execution_count": null,
   "id": "523d5099-ca03-4eff-a5db-e32e81cdac1f",
   "metadata": {},
   "outputs": [],
   "source": [
    "nombre(n::Int) = Symbol( string(\"W_\", n) )"
   ]
  },
  {
   "cell_type": "code",
   "execution_count": null,
   "id": "f7be959a-f63c-43c5-9a10-c2a5b2ce02f4",
   "metadata": {},
   "outputs": [],
   "source": [
    "nombre(3)"
   ]
  },
  {
   "cell_type": "markdown",
   "id": "beb7791e-5a22-4622-b973-7cd2bc6aca16",
   "metadata": {},
   "source": [
    "La siguiente función regresa la expresión que corresponde al polinomio de Wilkinson\n",
    "$W_n(x)$."
   ]
  },
  {
   "cell_type": "code",
   "execution_count": null,
   "id": "ecea9339-0741-476d-8228-2ae1c996f2bb",
   "metadata": {},
   "outputs": [],
   "source": [
    "function wilkinson(n::Int)\n",
    "    # Imponemos que que `n` sea ≥ 1\n",
    "    @assert n ≥ 1 \"`n` tiene que ser mayor o igual a 1\"\n",
    "\n",
    "    ex = :(x-1)\n",
    "    for i = 2:n\n",
    "        ex = :( ($ex) * ( x-$i) )\n",
    "    end\n",
    "    ex_ret = :( $(nombre(n))(x) = $ex )\n",
    "    return ex_ret\n",
    "end"
   ]
  },
  {
   "cell_type": "code",
   "execution_count": null,
   "id": "719d2d42-f1bc-4fdf-a424-ea0d02fd1cd3",
   "metadata": {},
   "outputs": [],
   "source": [
    "wilkinson(0) # Da un AssertionError !"
   ]
  },
  {
   "cell_type": "code",
   "execution_count": null,
   "id": "4331df01-9987-4431-883e-ae6a29967d19",
   "metadata": {},
   "outputs": [],
   "source": [
    "w3 = wilkinson(3)\n",
    "eval(w3)"
   ]
  },
  {
   "cell_type": "code",
   "execution_count": null,
   "id": "0128743d-10d8-4f73-964d-7b78045a8b9c",
   "metadata": {},
   "outputs": [],
   "source": [
    "W_3(2.1)"
   ]
  },
  {
   "cell_type": "markdown",
   "id": "e966e89f-f407-41c1-9e6c-279323f3db89",
   "metadata": {},
   "source": [
    "Uno puede *automatizar* la generación de código. Tomando el ejemplo de los\n",
    "polinomios de Wilkinson podemos, dentro de un ciclo `for`, generar varios\n",
    "de éstos."
   ]
  },
  {
   "cell_type": "code",
   "execution_count": null,
   "id": "0b1036c5-0322-42f4-bcf6-5f669bbda531",
   "metadata": {},
   "outputs": [],
   "source": [
    "for i = 1:10\n",
    "    ex = wilkinson(i) # genera el polinomio de orden `i`\n",
    "    println(ex)\n",
    "    @eval $ex\n",
    "end"
   ]
  },
  {
   "cell_type": "code",
   "execution_count": null,
   "id": "15265eb0-5f48-42d1-9c7a-dc5b343e93e2",
   "metadata": {},
   "outputs": [],
   "source": [
    "W_8(1.0)"
   ]
  },
  {
   "cell_type": "markdown",
   "id": "401f0b8d-61a4-442f-94fb-cfc555f5f49c",
   "metadata": {},
   "source": [
    "Esta forma de generar código permite tener código más conciso y sencillo de\n",
    "mantener, aunque debe ser utilizado con cuidado."
   ]
  },
  {
   "cell_type": "markdown",
   "id": "1b46a2aa-2155-4d0c-bd00-00eb0c1b6b4e",
   "metadata": {},
   "source": [
    "### Macros\n",
    "\n",
    "En ocasiones hemos usado instrucciones que incluyen `@` antes de la *expresión*,\n",
    "un ejemplo es `@assert`. Éstos son macros: Los macros son funciones cuyas\n",
    "entradas son expresiones, que son manipuladas y al final se evalúan."
   ]
  },
  {
   "cell_type": "code",
   "execution_count": null,
   "id": "e9bb8f11-f483-476d-8207-dccde874cfb6",
   "metadata": {},
   "outputs": [],
   "source": [
    "macro simple_example(expr)\n",
    "    @show expr   # this is another macro !\n",
    "    return 0     # for simplicity\n",
    "end"
   ]
  },
  {
   "cell_type": "code",
   "execution_count": null,
   "id": "3b3225c7-1d03-49c3-b969-45f515092b40",
   "metadata": {},
   "outputs": [],
   "source": [
    "@simple_example(x+y)"
   ]
  },
  {
   "cell_type": "code",
   "execution_count": null,
   "id": "5f768cdf-7a67-447d-8337-23c92857cb56",
   "metadata": {},
   "outputs": [],
   "source": [
    "# Cambiemos un poco el macro `@simple_example`\n",
    "macro simple_example(expr)\n",
    "    @show expr   # this is another macro !\n",
    "    return expr     # for simplicity\n",
    "end"
   ]
  },
  {
   "cell_type": "code",
   "execution_count": null,
   "id": "5f7eaea8-af27-4fcc-a24a-f59d4dcceff5",
   "metadata": {},
   "outputs": [],
   "source": [
    "x, y"
   ]
  },
  {
   "cell_type": "code",
   "execution_count": null,
   "id": "71fb4e81-6b87-4705-8bf0-93595714864c",
   "metadata": {},
   "outputs": [],
   "source": [
    "@simple_example x + y"
   ]
  },
  {
   "cell_type": "code",
   "execution_count": null,
   "id": "1783a2dc-3ffe-425e-b054-bc34765b2b8b",
   "metadata": {},
   "outputs": [],
   "source": [
    "@simple_example x1 + y1"
   ]
  },
  {
   "cell_type": "markdown",
   "id": "0d8d1bab-5c66-47f7-b1c8-9e35934e607d",
   "metadata": {},
   "source": [
    "El macro `@macroexpand` permite ver lo que hace el macro:"
   ]
  },
  {
   "cell_type": "code",
   "execution_count": null,
   "id": "2b69ec20-84e0-496d-9d3b-4c5ceff0f271",
   "metadata": {},
   "outputs": [],
   "source": [
    "@macroexpand @simple_example x1 + y1"
   ]
  },
  {
   "cell_type": "markdown",
   "id": "b18d1de8-d79e-437a-97c5-029d6c3e6616",
   "metadata": {},
   "source": [
    "Una sutileza importante de los macros es que, a diferencia de las funciones,\n",
    "los macros permiten introducir y modificar código *antes* de que sea\n",
    "ejecutado, dado que los macros son ejecutados cuando el código se traduce\n",
    "en expresiones (*parse time*).\n",
    "\n",
    "El siguiente ejemplo, tomado del manual, ilustra esto:"
   ]
  },
  {
   "cell_type": "code",
   "execution_count": null,
   "id": "819c1d29-9674-4d5d-8017-5ab3d670ff36",
   "metadata": {},
   "outputs": [],
   "source": [
    "macro twostep(arg)\n",
    "    println(\"I execute at parse time. The argument is: \", arg)\n",
    "\n",
    "    return :(println(\"I execute at runtime. The argument is: \", $arg))\n",
    "end"
   ]
  },
  {
   "cell_type": "code",
   "execution_count": null,
   "id": "6a08d4de-277f-437d-9896-c88e6f9998bd",
   "metadata": {},
   "outputs": [],
   "source": [
    "exx = macroexpand(Main, :(@twostep :(1, 2, 3)) );"
   ]
  },
  {
   "cell_type": "markdown",
   "id": "0e3199ac-a2f6-4740-a429-b08ec68c776f",
   "metadata": {},
   "source": [
    "El primer uso de `println` ocurre cuando `macroexpand` es utilizado; la expresión resultante incluye el segundo `println` únicamente."
   ]
  },
  {
   "cell_type": "code",
   "execution_count": null,
   "id": "ef19ae8f-686c-46af-8cef-aaa408735f78",
   "metadata": {},
   "outputs": [],
   "source": [
    "exx"
   ]
  },
  {
   "cell_type": "code",
   "execution_count": null,
   "id": "5beccdc2-8a67-42fa-a9b4-1b790ebb91f0",
   "metadata": {},
   "outputs": [],
   "source": [
    "eval(exx)"
   ]
  },
  {
   "cell_type": "markdown",
   "id": "498a6c05-10cd-4ba8-840e-ee49631ceb8b",
   "metadata": {},
   "source": [
    "Más información sobre los macros puede ser encontrada\n",
    "[aquí](https://docs.julialang.org/en/v1/manual/metaprogramming), e incluye ejemplos\n",
    "de [generación de código](https://docs.julialang.org/en/v1/manual/metaprogramming/#Code-Generation) que\n",
    "son útiles, [cadenas literales no estándar](https://docs.julialang.org/en/v1/manual/metaprogramming/#meta-non-standard-string-literals)\n",
    "o [funciones generadoras](https://docs.julialang.org/en/v1/manual/metaprogramming/#Generated-functions).\n",
    "La lectura de este capítulo del manual es altamente recomendada."
   ]
  }
 ],
 "metadata": {
  "kernelspec": {
   "display_name": "Julia 1.10.4",
   "language": "julia",
   "name": "julia-1.10"
  },
  "language_info": {
   "file_extension": ".jl",
   "mimetype": "application/julia",
   "name": "julia",
   "version": "1.10.4"
  }
 },
 "nbformat": 4,
 "nbformat_minor": 5
}
